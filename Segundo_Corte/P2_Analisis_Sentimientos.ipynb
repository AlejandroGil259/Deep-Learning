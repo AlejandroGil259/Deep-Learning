{
  "nbformat": 4,
  "nbformat_minor": 0,
  "metadata": {
    "colab": {
      "name": "P2_Analisis_Sentimientos.ipynb",
      "provenance": [],
      "toc_visible": true
    },
    "kernelspec": {
      "display_name": "Python 3",
      "name": "python3"
    },
    "language_info": {
      "name": "python"
    }
  },
  "cells": [
    {
      "cell_type": "markdown",
      "metadata": {
        "id": "YaKmT0R8LYqQ"
      },
      "source": [
        "# ANALISIS DE SENTIMIENTOS EN ESPAÑOL TWITTER"
      ]
    },
    {
      "cell_type": "markdown",
      "metadata": {
        "id": "OY2y5OQav6ct"
      },
      "source": [
        "# Procesamiento de lenguaje Natural\n",
        "Importar Librerias"
      ]
    },
    {
      "cell_type": "code",
      "metadata": {
        "colab": {
          "base_uri": "https://localhost:8080/"
        },
        "id": "qNmhiSZFwSUx",
        "outputId": "3358950c-2021-46ae-da3d-f28345865cfd"
      },
      "source": [
        "!pip install pyprind"
      ],
      "execution_count": null,
      "outputs": [
        {
          "output_type": "stream",
          "text": [
            "Collecting pyprind\n",
            "  Downloading https://files.pythonhosted.org/packages/ab/b3/1f12ebc5009c65b607509393ad98240728b4401bc3593868fb161fdd3760/PyPrind-2.11.3-py2.py3-none-any.whl\n",
            "Installing collected packages: pyprind\n",
            "Successfully installed pyprind-2.11.3\n"
          ],
          "name": "stdout"
        }
      ]
    },
    {
      "cell_type": "code",
      "metadata": {
        "id": "p2ZcykX5weUN"
      },
      "source": [
        "import os\n",
        "import sys\n",
        "import tarfile\n",
        "import time\n",
        "import re\n",
        "import pyprind\n",
        "import numpy as np\n",
        "import pandas as pd\n",
        "import tweepy as tw"
      ],
      "execution_count": null,
      "outputs": []
    },
    {
      "cell_type": "markdown",
      "metadata": {
        "id": "3B1vx_FL5ept"
      },
      "source": [
        "## Habilitando Google Drive"
      ]
    },
    {
      "cell_type": "code",
      "metadata": {
        "colab": {
          "base_uri": "https://localhost:8080/"
        },
        "id": "ApgzA_3G5lOM",
        "outputId": "b559f466-5238-4e14-a1af-8ede6f65905e"
      },
      "source": [
        "from google.colab import drive\n",
        "drive.mount('/content/drive')"
      ],
      "execution_count": null,
      "outputs": [
        {
          "output_type": "stream",
          "text": [
            "Drive already mounted at /content/drive; to attempt to forcibly remount, call drive.mount(\"/content/drive\", force_remount=True).\n"
          ],
          "name": "stdout"
        }
      ]
    },
    {
      "cell_type": "markdown",
      "metadata": {
        "id": "jZ_sejgNw1Z7"
      },
      "source": [
        "## Obtener permisos de la API de Twitter\n"
      ]
    },
    {
      "cell_type": "code",
      "metadata": {
        "id": "xY4Kz2TEw6xv"
      },
      "source": [
        "consumer_key= 'iXL4yODThy5b5f23db7sYhus4'\n",
        "consumer_secret= 'bMbxHRR2C9ssoT1CSxjNWCV3OXCRH3N9pCxKrLQlS4HDHLtyhF'\n",
        "access_token= '1387929113038557185-5YGDUiS62aWJ9hv3uBiwk23QRvEhYC'\n",
        "access_token_secret= 'JH8Pe0XLozv0HzWQtq0BEdSewUu6dlaRZVBD6T4NAbJlT'\n",
        "\n",
        "auth = tw.OAuthHandler(consumer_key, consumer_secret)\n",
        "auth.set_access_token(access_token, access_token_secret)\n",
        "api = tw.API(auth, wait_on_rate_limit=True)"
      ],
      "execution_count": null,
      "outputs": []
    },
    {
      "cell_type": "markdown",
      "metadata": {
        "id": "knjACBWAxQ4C"
      },
      "source": [
        "## Obtener tweets\n",
        "\n",
        "Covid-19"
      ]
    },
    {
      "cell_type": "code",
      "metadata": {
        "colab": {
          "base_uri": "https://localhost:8080/"
        },
        "id": "gK0l7SiRzixW",
        "outputId": "187ec559-061d-4a6c-b0f9-4be1865fa3cc"
      },
      "source": [
        "# Definir el termino de la busqueda y la fecha de inicio\n",
        "search_words ='#CoaliciondelaEsperanza'\n",
        "date_since ='2020-08-01'\n",
        "# Collecional tweets\n",
        "tweets = tw.Cursor(api.search,\n",
        "                   q=search_words,\n",
        "                   lang=\"es\", \n",
        "                   since=date_since).items(5000)\n",
        "tweets\n",
        "#[tweet.text for tweet in tweets]"
      ],
      "execution_count": null,
      "outputs": [
        {
          "output_type": "execute_result",
          "data": {
            "text/plain": [
              "<tweepy.cursor.ItemIterator at 0x7fbca1b8be10>"
            ]
          },
          "metadata": {
            "tags": []
          },
          "execution_count": 6
        }
      ]
    },
    {
      "cell_type": "markdown",
      "metadata": {
        "id": "vrwcIRHP0c5F"
      },
      "source": [
        "## Convertimos Tweets en DataFrame"
      ]
    },
    {
      "cell_type": "code",
      "metadata": {
        "id": "tiPSM8Z_0izX"
      },
      "source": [
        "data_frame = [[tweet.user.screen_name, tweet.user.location,tweet.text] for tweet in tweets]\n",
        "\n",
        "tw_dataframe = pd.DataFrame(data= data_frame , columns=[\"user\",\"location\",\"text\"])\n",
        "tw_dataframe\n",
        "#guardamos el dataframe en un CSV\n",
        "tw_dataframe.to_csv('/content/drive/MyDrive/Colab Notebooks/DataTwitter/Coalicion_Esperanza.csv', index=False, encoding='utf-8')"
      ],
      "execution_count": null,
      "outputs": []
    },
    {
      "cell_type": "markdown",
      "metadata": {
        "id": "VdY_EuD5Nz1P"
      },
      "source": [
        "## Obteniendo Dataset Twitter\n",
        "https://github.com/jcsobrino/TFM-Analisis_sentimientos_Twitter-UOC/tree/master/datasets"
      ]
    },
    {
      "cell_type": "markdown",
      "metadata": {
        "id": "YIE9h5aVVDGj"
      },
      "source": [
        "# P0. Obtener Corpus: Conviertiendo XML a CSV"
      ]
    },
    {
      "cell_type": "code",
      "metadata": {
        "id": "7PaRhkd_VQoq"
      },
      "source": [
        "#librerias necesarias\n",
        "import xml.etree.ElementTree as etree\n",
        "import csv\n",
        "from os import scandir\n",
        "from sklearn.model_selection import train_test_split"
      ],
      "execution_count": null,
      "outputs": []
    },
    {
      "cell_type": "markdown",
      "metadata": {
        "id": "tUocAFqN6yny"
      },
      "source": [
        "## Funcion para listar archivos de un directorio"
      ]
    },
    {
      "cell_type": "code",
      "metadata": {
        "id": "L7W8oGnE6zA7"
      },
      "source": [
        "# importing os module  \n",
        "import os \n",
        "#listado_de_archivos_desde_un_path\n",
        "def files_of_path(path): \n",
        "    return [obj.name for obj in os.scandir(path) if obj.is_file()]\n",
        "    \n",
        "files= files_of_path(\"/content/drive/MyDrive/IA/Analisis_Sentimientos_Twitter/Datasets_Corpus/tass_2017\")\n",
        "for file in files:\n",
        "    print(file)"
      ],
      "execution_count": null,
      "outputs": []
    },
    {
      "cell_type": "markdown",
      "metadata": {
        "id": "abQnKlR482YR"
      },
      "source": [
        "## Función para convertir listas en archivos CSV"
      ]
    },
    {
      "cell_type": "code",
      "metadata": {
        "id": "xSpxba_087vH"
      },
      "source": [
        "def list_to_csv(data, filename):\n",
        "  with open(filename, 'w', encoding='utf-8') as csvfile:\n",
        "    writer = csv.writer(csvfile, delimiter=',', lineterminator='\\n', quoting=csv.QUOTE_NONNUMERIC)\n",
        "    writer.writerows(data)"
      ],
      "execution_count": null,
      "outputs": []
    },
    {
      "cell_type": "markdown",
      "metadata": {
        "id": "iCri9N3h9Dxm"
      },
      "source": [
        "## Función para cargar de un CSV a una LISTA (messages | labels)"
      ]
    },
    {
      "cell_type": "code",
      "metadata": {
        "id": "XtPNXDUy9Igl"
      },
      "source": [
        "def csv_to_lists(filename):\n",
        "  messages = []\n",
        "  labels = []\n",
        "  with open(filename, 'r', encoding='utf-8') as csvfile:\n",
        "    reader = csv.reader(csvfile, delimiter=',')\n",
        "    for row in reader:\n",
        "      messages.append(row[1])\n",
        "      labels.append(row[2])\n",
        "  return messages, labels"
      ],
      "execution_count": null,
      "outputs": []
    },
    {
      "cell_type": "markdown",
      "metadata": {
        "id": "Nn3OPGNU9glR"
      },
      "source": [
        "## Funciones para prasear xml en un dataframe\n",
        "\n",
        "Corpus de general tweetid | content | sentiments/polarity/value"
      ]
    },
    {
      "cell_type": "code",
      "metadata": {
        "id": "YaVEy4vR9mGF"
      },
      "source": [
        "def general_tass_to_list(filename):\n",
        "  tree = etree.parse(filename)\n",
        "  root = tree.getroot()\n",
        "  data = []\n",
        "\n",
        "  for tweet in root:\n",
        "    tweetId = tweet.find('tweetid').text\n",
        "    content = tweet.find('content').text\n",
        "    polarityValue = tweet.find('sentiments/polarity/value').text\n",
        "    data.append([tweetId, content.replace('\\n',' '), polarityValue])\n",
        "  return data"
      ],
      "execution_count": null,
      "outputs": []
    },
    {
      "cell_type": "code",
      "metadata": {
        "id": "cabwPjr29s10"
      },
      "source": [
        "def general_tass_2017_to_list(filename,qrel=None):\n",
        "  tree = etree.parse(filename)\n",
        "  root = tree.getroot()\n",
        "  data = []\n",
        "\n",
        "  for tweet in root:\n",
        "    tweetId = tweet.find('tweetid').text\n",
        "    content = tweet.find('content').text\n",
        "    polarityValue = qrel[tweetId]\n",
        "    data.append([tweetId, content.replace('\\n',' '), polarityValue])\n",
        "\n",
        "  return data"
      ],
      "execution_count": null,
      "outputs": []
    },
    {
      "cell_type": "markdown",
      "metadata": {
        "id": "cBQf28op9xHx"
      },
      "source": [
        "## Corpus politics tweetid | content | sentiments/polarity"
      ]
    },
    {
      "cell_type": "code",
      "metadata": {
        "id": "WhdRkIM490Rk"
      },
      "source": [
        "def politics_tass_to_list(filename):\n",
        "  tree = etree.parse(filename)\n",
        "  root = tree.getroot()\n",
        "  data = []\n",
        "\n",
        "  for tweet in root:\n",
        "    tweetId = tweet.find('tweetid').text\n",
        "    content = tweet.find('content').text\n",
        "    aux = next((e for e in tweet.findall('sentiments/polarity') if e.find('entity') == None), None)\n",
        "    if aux != None:\n",
        "      polarityValue = aux.find('value').text\n",
        "      data.append([tweetId, content.replace('\\n',' '), polarityValue])\n",
        "  return data"
      ],
      "execution_count": null,
      "outputs": []
    },
    {
      "cell_type": "markdown",
      "metadata": {
        "id": "iOVAWEJ694AN"
      },
      "source": [
        "## Corpus de internacional tweetid | content | sentiments/polarity/value"
      ]
    },
    {
      "cell_type": "code",
      "metadata": {
        "id": "R0Xv29Xz99Bd"
      },
      "source": [
        "def intertass_tass_to_list(filename, qrel=None):\n",
        "  tree = etree.parse(filename)\n",
        "  root = tree.getroot()\n",
        "  data = []\n",
        "\n",
        "  for tweet in root:\n",
        "    tweetId = tweet.find('tweetid').text\n",
        "    content = tweet.find('content').text\n",
        "    polarityValue = tweet.find('sentiment/polarity/value').text\n",
        "    if polarityValue == None:\n",
        "      polarityValue = qrel[tweetId]\n",
        "      data.append([tweetId, content.replace('\\n',' '), polarityValue])\n",
        "  return data"
      ],
      "execution_count": null,
      "outputs": []
    },
    {
      "cell_type": "markdown",
      "metadata": {
        "id": "aFePK9GJ-AXi"
      },
      "source": [
        "## Parcear corpus de social-TV (no esta terminado)"
      ]
    },
    {
      "cell_type": "code",
      "metadata": {
        "id": "CMlZBwGv-DVT"
      },
      "source": [
        "from lxml import etree\n",
        "doc = etree.parse('/content/drive/My Drive/IA/Analisis_Sentimientos_Twitter/Datasets_Corpus/tass_2017/Social-TV/socialtv-tweets-test.xml')\n",
        "#print (etree.tostring(doc,pretty_print=True ,xml_declaration=True, encoding=\"utf-8\"))"
      ],
      "execution_count": null,
      "outputs": []
    },
    {
      "cell_type": "markdown",
      "metadata": {
        "id": "0R6Jhs0p-PC_"
      },
      "source": [
        "## Tweets"
      ]
    },
    {
      "cell_type": "code",
      "metadata": {
        "colab": {
          "base_uri": "https://localhost:8080/"
        },
        "id": "SWxfAlfP-SLF",
        "outputId": "bc46684c-4a7b-4e4e-b65a-076110f6b1f9"
      },
      "source": [
        "raiz=doc.getroot()\n",
        "#print (raiz.tag)\n",
        "#print (len(raiz))\n",
        "tweet=raiz[1]\n",
        "print (tweet.text)\n",
        "print (tweet.attrib)\n",
        "print (tweet[0].text)\n",
        "for attr,value in tweet.items():\n",
        "  print (attr,value)\n",
        "print (tweet.get(\"sentiment\"))"
      ],
      "execution_count": null,
      "outputs": [
        {
          "output_type": "stream",
          "text": [
            "El \n",
            "{'id': '456544890499760129'}\n",
            "Barça\n",
            "id 456544890499760129\n",
            "None\n"
          ],
          "name": "stdout"
        }
      ]
    },
    {
      "cell_type": "code",
      "metadata": {
        "id": "zRdwAqGK-Y-c"
      },
      "source": [
        "from xml.dom import minidom\n",
        "def social_tv_to_list(filename):\n",
        "  xmldoc = minidom.parse(filename)\n",
        "  tweetlist = xmldoc.getElementsByTagName('tweet')\n",
        "  print(len(tweetlist))\n",
        "  print(tweetlist[0].attributes['id'].value)\n",
        "  sentimentlist = xmldoc.getElementsByTagName('sentiment')\n",
        "  print(sentimentlist[0].attributes['aspect'].value)\n",
        "  #for s in tweetlist:\n",
        "#    print(s.attributes['id'].value)"
      ],
      "execution_count": null,
      "outputs": []
    },
    {
      "cell_type": "code",
      "metadata": {
        "colab": {
          "base_uri": "https://localhost:8080/"
        },
        "id": "uU9a2MAE-c7W",
        "outputId": "a994f8ad-c8ef-497c-d947-c3cf793f8bbc"
      },
      "source": [
        "social_tv_to_list(\"/content/drive/My Drive/IA/Analisis_Sentimientos_Twitter/Datasets_Corpus/tass_2017/Social-TV/socialtv-tweets-test.xml\")"
      ],
      "execution_count": null,
      "outputs": [
        {
          "output_type": "stream",
          "text": [
            "1000\n",
            "456544890097131521\n",
            "Entrenador\n"
          ],
          "name": "stdout"
        }
      ]
    },
    {
      "cell_type": "markdown",
      "metadata": {
        "id": "zwIJOgnN-hEd"
      },
      "source": [
        "## Funcion para unir los tweets corpus general test con sus sentimientos"
      ]
    },
    {
      "cell_type": "code",
      "metadata": {
        "id": "mXMXytAZ-l0M"
      },
      "source": [
        "#Listar los id tweets | sentiment :P (Positivo) - N (Negativo) - NEU (NEUtro) - NONE (sin sentimiento)\n",
        "def gold_standard_to_dict(filename):\n",
        "  with open(filename, 'r') as csvfile:\n",
        "    reader = csv.reader(csvfile, delimiter='\\t')\n",
        "    data = {rows[0]: rows[1] for rows in reader}\n",
        "\n",
        "  return data"
      ],
      "execution_count": null,
      "outputs": []
    },
    {
      "cell_type": "markdown",
      "metadata": {
        "id": "AYxFtqjq-pND"
      },
      "source": [
        "## Función para separar el 100% del corpus entre: Train : 70% - Test: 30%"
      ]
    },
    {
      "cell_type": "code",
      "metadata": {
        "id": "QD1Ucv0L-tNT"
      },
      "source": [
        "def generate_train_test_subsets(data, size):\n",
        "  codes = [d[0] for d in data]\n",
        "  labels = [d[2] for d in data]\n",
        "  codes_train, codes_test, labels_train, labels_test = train_test_split(codes, labels, train_size=size)\n",
        "  train_data = [d for d in data if d[0] in codes_train]\n",
        "  test_data = [d for d in data if d[0] in codes_test]\n",
        "  return train_data, test_data"
      ],
      "execution_count": null,
      "outputs": []
    },
    {
      "cell_type": "markdown",
      "metadata": {
        "id": "cN2BOgrS-wqP"
      },
      "source": [
        "## Ejecutar cada función de parsear los corpus y guardarlo en un CSV (full, train, test)"
      ]
    },
    {
      "cell_type": "code",
      "metadata": {
        "id": "ClCu7a__-1C2",
        "colab": {
          "base_uri": "https://localhost:8080/"
        },
        "outputId": "5063346d-93a1-47f8-c4a5-ba97d80440e6"
      },
      "source": [
        "!git clone 'https://github.com/AlejandroGil259/Deep-Learning' "
      ],
      "execution_count": null,
      "outputs": [
        {
          "output_type": "stream",
          "text": [
            "Cloning into 'Deep-Learning'...\n",
            "remote: Enumerating objects: 65, done.\u001b[K\n",
            "remote: Counting objects: 100% (65/65), done.\u001b[K\n",
            "remote: Compressing objects: 100% (58/58), done.\u001b[K\n",
            "remote: Total 65 (delta 9), reused 22 (delta 3), pack-reused 0\u001b[K\n",
            "Unpacking objects: 100% (65/65), done.\n"
          ],
          "name": "stdout"
        }
      ]
    },
    {
      "cell_type": "code",
      "metadata": {
        "id": "_nZJMCWnHEJN"
      },
      "source": [
        "data = []\n",
        "\n",
        "#Parceamos el internacional TASS\n",
        "#tomamos el corpus internacional (test) y generamos una lista del ID del tweet y el sentimiento para agregarlo a la data\n",
        "qrel = gold_standard_to_dict(\"/content/drive/MyDrive/IA/Analisis_Sentimientos_Twitter/Datasets_Corpus/tass_2017/InterTASS/InterTASS_Test_res.qrel\")\n",
        "\n",
        "#como el test del corpus internacional esta sin los sentimientos es necesario agregarlos : qrel\n",
        "data.extend(intertass_tass_to_list(\"/content/drive/MyDrive/IA/Analisis_Sentimientos_Twitter/Datasets_Corpus/tass_2017/InterTASS/InterTASS_Test.xml\", qrel))\n",
        "data.extend(intertass_tass_to_list(\"/content/drive/MyDrive/IA/Analisis_Sentimientos_Twitter/Datasets_Corpus/tass_2017/InterTASS/InterTASS_development.xml\"))\n",
        "data.extend(intertass_tass_to_list(\"/content/drive/MyDrive/IA/Analisis_Sentimientos_Twitter/Datasets_Corpus/tass_2017/InterTASS/InterTASS_Training.xml\"))\n",
        "\n",
        "#Parceamos el General\n",
        "#NO-data.extend(DatasetHelper.general_tass_to_list(\"../datasets/tass_2017/InterTASS/general-test-tagged-3l.xml\"))\n",
        "#NO-data.extend(DatasetHelper.general_tass_to_list(\"../datasets/tass_2017/InterTASS/general-train-tagged-3l.xml\"))\n",
        "qrel = gold_standard_to_dict(\"/content/drive/MyDrive/IA/Analisis_Sentimientos_Twitter/Datasets_Corpus/tass_2017/General Corpus of TASS/general-sentiment-3l.qrel\")\n",
        "data.extend(general_tass_2017_to_list(\"/content/drive/MyDrive/IA/Analisis_Sentimientos_Twitter/Datasets_Corpus/tass_2017/General Corpus of TASS/general-tweets-test.xml\", qrel))\n",
        "\n",
        "#Parceamos el STOMPOL (politica)\n",
        "data.extend(politics_tass_to_list(\"/content/drive/MyDrive/IA/Analisis_Sentimientos_Twitter/Datasets_Corpus/tass_2014/politics-test-tagged.xml\"))\n",
        "\n",
        "#separamos la data en train = 70%  | test = 30#\n",
        "test, train  = generate_train_test_subsets(data, size=0.3)\n",
        "list_to_csv(data,\"/content/dataset_2017_full.csv\")\n",
        "list_to_csv(train, '/content/dataset_2017_train.csv')\n",
        "list_to_csv(test, '/content/dataset_2017_test.csv')"
      ],
      "execution_count": null,
      "outputs": []
    },
    {
      "cell_type": "markdown",
      "metadata": {
        "id": "ZZPJeQYmJ73O"
      },
      "source": [
        "# P1. Preprocesamiento del corpus\n",
        "Cargar Librerias"
      ]
    },
    {
      "cell_type": "code",
      "metadata": {
        "id": "tL4OEZvlKAxO"
      },
      "source": [
        "import re                                #operaciones regulares para la búsqueda y manipulación de cadenas\n",
        "from nltk import TweetTokenizer          #libreria para tokenizar\n",
        "from nltk.stem import SnowballStemmer    #algoritmo para clasificación de palabras\n",
        "#variables para mejorar la escritura (opcional)\n",
        "NORMALIZE = 'normalize'\n",
        "REMOVE = 'remove'\n",
        "MENTION = 'twmention'\n",
        "HASHTAG = 'twhashtag'\n",
        "URL = 'twurl'\n",
        "LAUGH = 'twlaugh'\n",
        "\n",
        "#definir que el algoritmo de clasificación use el idioma español\n",
        "_stemmer = SnowballStemmer('spanish')\n",
        "\n",
        "#definir una variable para la funcion de tokenizar (opcional)\n",
        "_tokenizer = TweetTokenizer().tokenize\n",
        "\n",
        "#variable para definir si quiero normalizar: normalize o eliminar: remove los hashtags, menciones y urls en los tweets\n",
        "_twitter_features=\"normalize\"\n",
        "\n",
        "#variable para definir si se desea tener convertir o no a la raiz de la palabra.\n",
        "_stemming=False"
      ],
      "execution_count": null,
      "outputs": []
    },
    {
      "cell_type": "markdown",
      "metadata": {
        "id": "AnXEwmsGKM1X"
      },
      "source": [
        "## Funciones/métodos de preprocesamiento\n",
        "Listas de conversión (quitar tildes y palabras coloquiales)"
      ]
    },
    {
      "cell_type": "code",
      "metadata": {
        "id": "fw3h9e__KTW2"
      },
      "source": [
        "#lista de conversión para quitar las tildes a las vocales.\n",
        "DIACRITICAL_VOWELS = [('á','a'), ('é','e'), ('í','i'), ('ó','o'), ('ú','u'), ('ü','u')]\n",
        "\n",
        "#lista para corregir algunas palabras coloquiales / jerga en español (obviamente faltan más)\n",
        "SLANG = [('d','de'), ('[qk]','que'), ('xo','pero'), ('xa', 'para'), ('[xp]q','porque'),('es[qk]', 'es que'),\n",
        "         ('fvr','favor'),('(xfa|xf|pf|plis|pls|porfa)', 'por favor'), ('dnd','donde'), ('tb', 'también'),\n",
        "         ('(tq|tk)', 'te quiero'), ('(tqm|tkm)', 'te quiero mucho'), ('x','por'), ('\\+','mas')]"
      ],
      "execution_count": null,
      "outputs": []
    },
    {
      "cell_type": "markdown",
      "metadata": {
        "id": "fTg40AMzKXTy"
      },
      "source": [
        "## Funcion/método de normalización de risas"
      ]
    },
    {
      "cell_type": "code",
      "metadata": {
        "id": "VBJUVWR0KbyV"
      },
      "source": [
        "#metodo para normalizar las risas\n",
        "def normalize_laughs(message):\n",
        "  message = re.sub(r'\\b(?=\\w*[j])[aeiouj]{4,}\\b', LAUGH, message, flags=re.IGNORECASE)\n",
        "  message = re.sub(r'\\b(?=\\w*[k])[aeiouk]{4,}\\b', LAUGH, message, flags=re.IGNORECASE)\n",
        "  message = re.sub(r'\\b(?=\\w*[h])[aeiouk]{4,}\\b', LAUGH, message, flags=re.IGNORECASE)\n",
        "  message = re.sub(r'\\b(juas+|lol)\\b', LAUGH, message, flags=re.IGNORECASE)\n",
        "  return message"
      ],
      "execution_count": null,
      "outputs": []
    },
    {
      "cell_type": "code",
      "metadata": {
        "id": "2XjQZbU5D0RZ"
      },
      "source": [
        "print (normalize_laughs(\"esto muyy feliz jajajajaja o no tan feliz jejejejeje o mejor me rio a como papa noel JOJOJO o como en mileniams LOL  kakaka\"))"
      ],
      "execution_count": null,
      "outputs": []
    },
    {
      "cell_type": "markdown",
      "metadata": {
        "id": "NfaEUnc8Dyv4"
      },
      "source": [
        "## Función/método para eliminar o normalizar menciones, hashtags y URL de un mensaje (tweet)"
      ]
    },
    {
      "cell_type": "code",
      "metadata": {
        "id": "WPYkw_lNEAJq"
      },
      "source": [
        "def process_twitter_features(message, twitter_features):\n",
        "\n",
        "  message = re.sub(r'[\\.\\,]http','. http', message, flags=re.IGNORECASE)\n",
        "  message = re.sub(r'[\\.\\,]#', '. #', message)\n",
        "  message = re.sub(r'[\\.\\,]@', '. @', message)\n",
        "\n",
        "  if twitter_features == REMOVE:\n",
        "    # eliminar menciones, hashtags y URL\n",
        "    message = re.sub(r'((?<=\\s)|(?<=\\A))(@|#)\\S+', '', message)\n",
        "    message = re.sub(r'\\b(https?:\\S+)\\b', '', message, flags=re.IGNORECASE)\n",
        "  elif twitter_features == NORMALIZE:\n",
        "    # cuando sea necesario se normalizaran las menciones, hashtags y URL\n",
        "    message = re.sub(r'((?<=\\s)|(?<=\\A))@\\S+', MENTION, message)\n",
        "    message = re.sub(r'((?<=\\s)|(?<=\\A))#\\S+', HASHTAG, message)\n",
        "    message = re.sub(r'\\b(https?:\\S+)\\b', URL, message, flags=re.IGNORECASE)\n",
        "\n",
        "  return message"
      ],
      "execution_count": null,
      "outputs": []
    },
    {
      "cell_type": "code",
      "metadata": {
        "colab": {
          "base_uri": "https://localhost:8080/"
        },
        "id": "3ht0IXCFGSfj",
        "outputId": "177475d9-66bd-4e4e-8d30-b8c2b8c0f601"
      },
      "source": [
        "print(process_twitter_features(\"Rosell, una noche. Adivina quien!! http://t.co/PPAwijRX, jajajAja dime si NO ES DÍVERTIDÓÓ\",\"normalize\"))"
      ],
      "execution_count": null,
      "outputs": [
        {
          "output_type": "stream",
          "text": [
            "Rosell, una noche. Adivina quien!! twurl, jajajAja dime si NO ES DÍVERTIDÓÓ\n"
          ],
          "name": "stdout"
        }
      ]
    },
    {
      "cell_type": "markdown",
      "metadata": {
        "id": "wqDr00svGTUO"
      },
      "source": [
        "## Función/método general para el preprocesamiento"
      ]
    },
    {
      "cell_type": "code",
      "metadata": {
        "id": "zd41hAu7GVs9"
      },
      "source": [
        "def preprocess(message):\n",
        "  # convertir a minusculas\n",
        "  message = message.lower()\n",
        "        \n",
        "  # eliminar números, retorno de linea y el tan odios retweet (de los viejos estilos de twitter)\n",
        "  message = re.sub(r'(\\d+|\\n|\\brt\\b)', '', message)\n",
        "        \n",
        "  # elimar vocales con signos diacríticos (posible ambigüedad)\n",
        "  for s,t in DIACRITICAL_VOWELS:\n",
        "    message = re.sub(r'{0}'.format(s), t, message)\n",
        "        \n",
        "  # eliminar caracteres repetidos \n",
        "  message = re.sub(r'(.)\\1{2,}', r'\\1\\1', message)\n",
        "       \n",
        "  # normalizar las risas\n",
        "  message = normalize_laughs(message)\n",
        "        \n",
        "  # traducir la jerga y terminos coloquiales sobre todo en el español\n",
        "  for s,t in SLANG:\n",
        "    message = re.sub(r'\\b{0}\\b'.format(s), t, message)\n",
        "\n",
        "  #normalizar/eliminar hashtags, menciones y URL\n",
        "  message = process_twitter_features(message, _twitter_features)\n",
        "\n",
        "  #Convertir las palabras a su raiz ( Bonita, bonito) -> bonit \n",
        "  if _stemming:\n",
        "    message = ' '.join(_stemmer.stem(w) for w in _tokenizer(message))\n",
        "\n",
        "  return message"
      ],
      "execution_count": null,
      "outputs": []
    },
    {
      "cell_type": "code",
      "metadata": {
        "colab": {
          "base_uri": "https://localhost:8080/"
        },
        "id": "BIKlU_gIGY3p",
        "outputId": "1e39a3a1-c832-4f40-9063-00af6a23439c"
      },
      "source": [
        "print(preprocess(\"LOL!! muy graciosa esta paguina https://actualidadpanamericana.com :-) jajajaja muy buena\"))"
      ],
      "execution_count": null,
      "outputs": [
        {
          "output_type": "stream",
          "text": [
            "twlaugh!! muy graciosa esta paguina twurl :-) twlaugh muy buena\n"
          ],
          "name": "stdout"
        }
      ]
    },
    {
      "cell_type": "markdown",
      "metadata": {
        "id": "9yYVBwFeGfxC"
      },
      "source": [
        "## Descargamos la librerias NLTK"
      ]
    },
    {
      "cell_type": "code",
      "metadata": {
        "colab": {
          "base_uri": "https://localhost:8080/"
        },
        "id": "HC81m2xEGe_M",
        "outputId": "44df7f01-747e-4e07-8e9c-592a1a7e485f"
      },
      "source": [
        "#Descargamos la libreria de stopwords\n",
        "import nltk\n",
        "nltk.download('stopwords')"
      ],
      "execution_count": null,
      "outputs": [
        {
          "output_type": "stream",
          "text": [
            "[nltk_data] Downloading package stopwords to /root/nltk_data...\n",
            "[nltk_data]   Unzipping corpora/stopwords.zip.\n"
          ],
          "name": "stdout"
        },
        {
          "output_type": "execute_result",
          "data": {
            "text/plain": [
              "True"
            ]
          },
          "metadata": {
            "tags": []
          },
          "execution_count": 32
        }
      ]
    },
    {
      "cell_type": "markdown",
      "metadata": {
        "id": "5aR2kny6HCOq"
      },
      "source": [
        "## Cargamos el CSV del corpus de google drive"
      ]
    },
    {
      "cell_type": "code",
      "metadata": {
        "colab": {
          "base_uri": "https://localhost:8080/"
        },
        "id": "zR1vF8MSHDpA",
        "outputId": "9eb59ddd-e423-4693-90f2-053e9ebdf874"
      },
      "source": [
        "from google.colab import drive\n",
        "drive.mount('/content/drive')"
      ],
      "execution_count": null,
      "outputs": [
        {
          "output_type": "stream",
          "text": [
            "Drive already mounted at /content/drive; to attempt to forcibly remount, call drive.mount(\"/content/drive\", force_remount=True).\n"
          ],
          "name": "stdout"
        }
      ]
    },
    {
      "cell_type": "markdown",
      "metadata": {
        "id": "7nzFP3wQHFKK"
      },
      "source": [
        "## Aplicamos preprocesamiento al CSV y creamos un nuevo CSV limpio"
      ]
    },
    {
      "cell_type": "code",
      "metadata": {
        "id": "-akOnilrHMcw"
      },
      "source": [
        "import numpy as np\n",
        "import pandas as pd\n",
        "\n",
        "df = pd.read_csv('https://raw.githubusercontent.com/luisFernandoCastellanosG/Machine_learning/master/Analisis_sentimientos_Twitter/espanish/datasets/Corpus/dataset_2017_full.csv', encoding='utf-8')\n",
        "#asignamos nombres a las columnas del csv para facilitar la busqueda de información\n",
        "df.columns = ['tweetid', 'tweet','sentiment']\n",
        "\n",
        "#aplicamos el preprocesamiento a los tweets con steaming =false\n",
        "df['tweet'] = df['tweet'].apply(preprocess)\n",
        "\n",
        "#eliminamos la columna tweetid que no nos sirve para entrenar y si nos genera mas uso de memoria \n",
        "df = df.drop(columns=\"tweetid\")\n",
        "\n",
        "#Es mejor trabajar con valores enteros que con letras\n",
        "\n",
        "#por lo tanto reemplazaremos los sentimientos que estan como NONE->-1 | NEU -> 0 | P->1 | N->2\n",
        "df.loc[df['sentiment'] == 'NONE', 'sentiment'] = '-1'\n",
        "df.loc[df['sentiment'] == 'NEU', 'sentiment'] = '0'\n",
        "df.loc[df['sentiment'] == 'P', 'sentiment'] = '1'\n",
        "df.loc[df['sentiment'] == 'N', 'sentiment'] = '2'\n",
        "df[\"sentiment\"].unique()\n",
        "\n",
        "#guardamos el dataset en un nuvevo CSV para facilitar su posterior uso\n",
        "df.to_csv('/content/dataset_2017_full_clean.csv', index=False, encoding='utf-8')"
      ],
      "execution_count": null,
      "outputs": []
    },
    {
      "cell_type": "markdown",
      "metadata": {
        "id": "tNSKRJTUJSwe"
      },
      "source": [
        "# P2.Entrenando el modelo de aprendizaje\n",
        "Funciones de tokenizar/extraer tweets"
      ]
    },
    {
      "cell_type": "code",
      "metadata": {
        "colab": {
          "base_uri": "https://localhost:8080/"
        },
        "id": "tMTQlwIzJX9Z",
        "outputId": "c0a095ff-cbe6-4eba-bbf1-8cb20214e217"
      },
      "source": [
        "#p2.1: funcion tokenizar con esteroides --tokeniza y limpia--\n",
        "print(\"p2.1: funcion tokenizar con esteroides --tokeniza y limpia--\")\n",
        "def tokenizer(text):\n",
        "    text = re.sub('<[^>]*>', '', text)\n",
        "    emoticons = re.findall('(?::|;|=)(?:-)?(?:\\)|\\(|D|P)', text.lower())\n",
        "    text = re.sub('[\\W]+', ' ', text.lower()) +' '.join(emoticons).replace('-', '')\n",
        "    tokenized = [w for w in text.split() if w not in stop]\n",
        "    return tokenized\n",
        "\n",
        "#p2.2: funcion para extraer un documento del dataset  \n",
        "print(\"p2.2: funcion para extraer un documento del dataset  \")\n",
        "def stream_docs(path):\n",
        "    with open(path, 'r', encoding='utf-8') as csv:\n",
        "        next(csv)  # skip header\n",
        "        for line in csv:\n",
        "            text, label = line[:-3],  int(line[-2])\n",
        "            yield text, label\n",
        "\n",
        "#p2.3: funcion que tomara una secuencia de documentos y devolvera un número particular de documentos\n",
        "def get_minibatch(doc_stream, size):\n",
        "    docs, y = [], []\n",
        "    try:\n",
        "        for _ in range(size):\n",
        "            text, label = next(doc_stream)\n",
        "            docs.append(text)\n",
        "            y.append(label)\n",
        "    except StopIteration:\n",
        "        return None, None\n",
        "    return docs, y"
      ],
      "execution_count": null,
      "outputs": [
        {
          "output_type": "stream",
          "text": [
            "p2.1: funcion tokenizar con esteroides --tokeniza y limpia--\n",
            "p2.2: funcion para extraer un documento del dataset  \n"
          ],
          "name": "stdout"
        }
      ]
    },
    {
      "cell_type": "code",
      "metadata": {
        "colab": {
          "base_uri": "https://localhost:8080/"
        },
        "id": "tYK7lRlBJdcE",
        "outputId": "47723740-bf7a-4014-e69a-17da10272bf1"
      },
      "source": [
        "next(stream_docs(path='/content/dataset_2017_full_clean.csv'))"
      ],
      "execution_count": null,
      "outputs": [
        {
          "output_type": "execute_result",
          "data": {
            "text/plain": [
              "('twmention ya era hora de volver al csgo y dejares el padel bienvenida ', 1)"
            ]
          },
          "metadata": {
            "tags": []
          },
          "execution_count": 36
        }
      ]
    },
    {
      "cell_type": "markdown",
      "metadata": {
        "id": "4NoPsc3zJgKe"
      },
      "source": [
        "## Entrenamos el modelo usando regresión logistica"
      ]
    },
    {
      "cell_type": "code",
      "metadata": {
        "colab": {
          "base_uri": "https://localhost:8080/"
        },
        "id": "y8f8ETYVJht-",
        "outputId": "ecdca6af-8269-42c1-9c1b-50aa8a096f28"
      },
      "source": [
        "path='/content/dataset_2017_full_clean.csv'\n",
        "#p2: definimos una versión liviana de CountVectorizer+TfidfVectorizer llamada HashingVectorizer\n",
        "from sklearn.feature_extraction.text import HashingVectorizer\n",
        "from sklearn.linear_model import SGDClassifier\n",
        "\n",
        "vect = HashingVectorizer(decode_error='ignore', \n",
        "                         n_features=2**21,\n",
        "                         preprocessor=None, \n",
        "                         tokenizer=tokenizer)\n",
        "\n",
        "#definimos como algoritmo la regressión logistica en el decenso gradiante \n",
        "\n",
        "clf = SGDClassifier(loss='log', random_state=1, max_iter=1)\n",
        "doc_stream = stream_docs(path)\n",
        "\n",
        "#p3. entrenamos \n",
        "import re\n",
        "import numpy as np\n",
        "#import pyprind\n",
        "from nltk.corpus import stopwords\n",
        "stop = stopwords.words('spanish')\n",
        "#pbar = pyprind.ProgBar(50)\n",
        "\n",
        "#definimos las clases con las cuales vamos a entrenar\n",
        "classes = np.array([-1,0, 1,2])\n",
        "\n",
        "#hacemos 50 repeticiones\n",
        "for _ in range(50):\n",
        "  #tomaremos grupos de 500 tweets para entrenar\n",
        "    X_train, y_train = get_minibatch(doc_stream, size=1000)\n",
        "    if not X_train:\n",
        "        break\n",
        "    X_train = vect.transform(X_train)\n",
        "    clf.partial_fit(X_train, y_train, classes=classes)\n",
        "    #pbar.update()\n",
        "\n",
        "#probamos la eficiencia del modelo con 5000 tweets .\n",
        "X_test, y_test = get_minibatch(doc_stream, size=5000)\n",
        "X_test = vect.transform(X_test)\n",
        "print('Presición del modelo: %.3f' % clf.score(X_test, y_test))\n",
        "\n",
        "#recalibramos el modelo.\n",
        "clf = clf.partial_fit(X_test, y_test)"
      ],
      "execution_count": null,
      "outputs": [
        {
          "output_type": "stream",
          "text": [
            "Presición del modelo: 0.806\n"
          ],
          "name": "stdout"
        }
      ]
    },
    {
      "cell_type": "markdown",
      "metadata": {
        "id": "JKObWRmeKeYH"
      },
      "source": [
        "# P3. Serializamos (congelamos) el modelo para usarlo fuera de google colaboratory"
      ]
    },
    {
      "cell_type": "code",
      "metadata": {
        "id": "HyFvWGDTLUa1"
      },
      "source": [
        "#creo una carpeta en mi google drive para guardar los archivos serializados\n",
        "import pickle\n",
        "dest = os.path.join('/content/drive/MyDrive/Colab Notebooks/PLN/TwitterClassifier', 'pkl_objects')\n",
        "if not os.path.exists(dest):\n",
        "    os.makedirs(dest)\n",
        "\n",
        "#convertimos el clasificador y el stopword en archivo/objectos pkl\n",
        "pickle.dump(stop, open(os.path.join(dest, 'stopwords.pkl'), 'wb'), protocol=4)   \n",
        "pickle.dump(clf, open(os.path.join(dest, 'classifier.pkl'), 'wb'), protocol=4)\n",
        "\n",
        "#Es importante recordar que deben verificar que los dos archivos esten en su drive"
      ],
      "execution_count": null,
      "outputs": []
    },
    {
      "cell_type": "markdown",
      "metadata": {
        "id": "O0DeGIaKLZsk"
      },
      "source": [
        "Probemos a ver si funciona"
      ]
    },
    {
      "cell_type": "code",
      "metadata": {
        "id": "gyo5rrIoLalU"
      },
      "source": [
        "os.chdir('/content/drive/MyDrive/Colab Notebooks/PLN/TwitterClassifier')"
      ],
      "execution_count": null,
      "outputs": []
    },
    {
      "cell_type": "markdown",
      "metadata": {
        "id": "DJ6WswTaV9No"
      },
      "source": [
        "## Deserializamos los estimadores"
      ]
    },
    {
      "cell_type": "code",
      "metadata": {
        "id": "D8BSDeWeV-lC"
      },
      "source": [
        "clf = pickle.load(\n",
        "    open(\n",
        "        os.path.join('/content/drive/MyDrive/Colab Notebooks/PLN/TwitterClassifier/pkl_objects', \n",
        "                     'classifier.pkl'), \n",
        "         'rb'))"
      ],
      "execution_count": null,
      "outputs": []
    },
    {
      "cell_type": "markdown",
      "metadata": {
        "id": "xryHTiimXeUj"
      },
      "source": [
        "## Clasifiquemos un texto de ejemplo"
      ]
    },
    {
      "cell_type": "code",
      "metadata": {
        "id": "_qKR_qR0Xi0T"
      },
      "source": [
        "label = {-1:'Sin sentimientos', 0:'Neutro', 1:'Positivo', 2:'Negativo'}"
      ],
      "execution_count": null,
      "outputs": []
    },
    {
      "cell_type": "code",
      "metadata": {
        "id": "QymdpzTSXk8r"
      },
      "source": [
        "frase = 'Estan matando a la gente en mi pais'\n",
        "example = [frase]"
      ],
      "execution_count": null,
      "outputs": []
    },
    {
      "cell_type": "markdown",
      "metadata": {
        "id": "Hh2jfLV3XxRs"
      },
      "source": [
        "Convertimos el texto en un vecot de palabras y extraemos sus caracteristicas https://scikit-learn.org/stable/modules/feature_extraction.html"
      ]
    },
    {
      "cell_type": "code",
      "metadata": {
        "colab": {
          "base_uri": "https://localhost:8080/"
        },
        "id": "nRQH1xw7X0Bn",
        "outputId": "d3ab4fbd-70ed-4285-ade6-8b8d6971db82"
      },
      "source": [
        "textConvert = vect.transform(example)\n",
        "\n",
        "print('Predicción: %s \\nProbabilidad: %.2f%%' % (label[clf.predict(textConvert)[0]], np.max(clf.predict_proba(textConvert))*100))\n",
        "print('Predicción: %s' % label[clf.predict(textConvert)[0]])\n",
        "print(np.max(clf.predict_proba(textConvert))*100)"
      ],
      "execution_count": null,
      "outputs": [
        {
          "output_type": "stream",
          "text": [
            "Predicción: Negativo \n",
            "Probabilidad: 52.20%\n",
            "Predicción: Negativo\n",
            "52.202077862552365\n"
          ],
          "name": "stdout"
        }
      ]
    },
    {
      "cell_type": "markdown",
      "metadata": {
        "id": "flFCef6bYIjb"
      },
      "source": [
        "# Recorremos los tweets descargados y los clasificamos"
      ]
    },
    {
      "cell_type": "code",
      "metadata": {
        "id": "6iElVa6AYLnK"
      },
      "source": [
        "pbar = pyprind.ProgBar(3000)\n",
        "df = pd.read_csv('/content/drive/MyDrive/Colab Notebooks/DataTwitter/ParoNacional_Duque.csv', encoding='utf-8')"
      ],
      "execution_count": null,
      "outputs": []
    },
    {
      "cell_type": "markdown",
      "metadata": {
        "id": "4Sn8mzStY-io"
      },
      "source": [
        "Conversion de sentimientos (números a palabras)"
      ]
    },
    {
      "cell_type": "code",
      "metadata": {
        "colab": {
          "base_uri": "https://localhost:8080/",
          "height": 995
        },
        "id": "ExIfliQFY_aA",
        "outputId": "edf879d7-3674-4c76-cdcd-55fe49a8212e"
      },
      "source": [
        "df['sentiment'] =''\n",
        "#creamos una columna llamada Probability donde guardaremos la acertabilidad que dio el clasificador\n",
        "df['probability']=0\n",
        "\n",
        "#conversión de sentimientos (numeros a palabras)= NONE->-1 | NEU -> 0 | P->1 | N->2\n",
        "label = {-1:'Sin sentimiento', 0:'Neutro', 1:'Positivo',2: 'Negativo'}\n",
        "for rowid in range(len(df.index)):\n",
        "  text=df['text'][rowid]\n",
        "  textConvert = vect.transform([text]) \n",
        "  df['sentiment'][rowid]=label[clf.predict(textConvert)[0]]\n",
        "  df['probability'][rowid]=np.max(clf.predict_proba(textConvert))*100\n",
        "  pbar.update()\n",
        "df.head(20)"
      ],
      "execution_count": null,
      "outputs": [
        {
          "output_type": "stream",
          "text": [
            "/usr/local/lib/python3.7/dist-packages/ipykernel_launcher.py:10: SettingWithCopyWarning: \n",
            "A value is trying to be set on a copy of a slice from a DataFrame\n",
            "\n",
            "See the caveats in the documentation: https://pandas.pydata.org/pandas-docs/stable/user_guide/indexing.html#returning-a-view-versus-a-copy\n",
            "  # Remove the CWD from sys.path while we load stuff.\n",
            "/usr/local/lib/python3.7/dist-packages/ipykernel_launcher.py:11: SettingWithCopyWarning: \n",
            "A value is trying to be set on a copy of a slice from a DataFrame\n",
            "\n",
            "See the caveats in the documentation: https://pandas.pydata.org/pandas-docs/stable/user_guide/indexing.html#returning-a-view-versus-a-copy\n",
            "  # This is added back by InteractiveShellApp.init_path()\n",
            "0% [##################            ] 100% | ETA: 00:01:55"
          ],
          "name": "stderr"
        },
        {
          "output_type": "execute_result",
          "data": {
            "text/html": [
              "<div>\n",
              "<style scoped>\n",
              "    .dataframe tbody tr th:only-of-type {\n",
              "        vertical-align: middle;\n",
              "    }\n",
              "\n",
              "    .dataframe tbody tr th {\n",
              "        vertical-align: top;\n",
              "    }\n",
              "\n",
              "    .dataframe thead th {\n",
              "        text-align: right;\n",
              "    }\n",
              "</style>\n",
              "<table border=\"1\" class=\"dataframe\">\n",
              "  <thead>\n",
              "    <tr style=\"text-align: right;\">\n",
              "      <th></th>\n",
              "      <th>user</th>\n",
              "      <th>location</th>\n",
              "      <th>text</th>\n",
              "      <th>sentiment</th>\n",
              "      <th>probability</th>\n",
              "    </tr>\n",
              "  </thead>\n",
              "  <tbody>\n",
              "    <tr>\n",
              "      <th>0</th>\n",
              "      <td>im_valeria02</td>\n",
              "      <td>NaN</td>\n",
              "      <td>RT @Jr_Sin_Limite: La vida es lo mas important...</td>\n",
              "      <td>Positivo</td>\n",
              "      <td>72</td>\n",
              "    </tr>\n",
              "    <tr>\n",
              "      <th>1</th>\n",
              "      <td>MarcialM2</td>\n",
              "      <td>Barquisimeto, Venezuela</td>\n",
              "      <td>RT @ConElMazoDando: Diosdado Cabello:  Los hip...</td>\n",
              "      <td>Positivo</td>\n",
              "      <td>58</td>\n",
              "    </tr>\n",
              "    <tr>\n",
              "      <th>2</th>\n",
              "      <td>lui97ruiz</td>\n",
              "      <td>Bogotá, D.C., Colombia</td>\n",
              "      <td>RT @Bridgetth_: y los vándalos son los manifes...</td>\n",
              "      <td>Negativo</td>\n",
              "      <td>52</td>\n",
              "    </tr>\n",
              "    <tr>\n",
              "      <th>3</th>\n",
              "      <td>chistosito1</td>\n",
              "      <td>En las calles del mundo.</td>\n",
              "      <td>Señora @VickyDavilaH :\\nEl ESMAD del dictador ...</td>\n",
              "      <td>Positivo</td>\n",
              "      <td>58</td>\n",
              "    </tr>\n",
              "    <tr>\n",
              "      <th>4</th>\n",
              "      <td>Frida0276</td>\n",
              "      <td>Bogotá, D.C., Colombia</td>\n",
              "      <td>RT @_AndreaAlvarz_: CAMARAS DEL BANCO DE BOGOT...</td>\n",
              "      <td>Positivo</td>\n",
              "      <td>55</td>\n",
              "    </tr>\n",
              "    <tr>\n",
              "      <th>5</th>\n",
              "      <td>acama10</td>\n",
              "      <td>Medellín, Colombia</td>\n",
              "      <td>RT @mandreszamudio: #DuqueNarcoParacoYAsesino ...</td>\n",
              "      <td>Positivo</td>\n",
              "      <td>53</td>\n",
              "    </tr>\n",
              "    <tr>\n",
              "      <th>6</th>\n",
              "      <td>Liamoyo1</td>\n",
              "      <td>NaN</td>\n",
              "      <td>RT @JuanCatumba: #ParoNacional6M #SOSColombia ...</td>\n",
              "      <td>Positivo</td>\n",
              "      <td>61</td>\n",
              "    </tr>\n",
              "    <tr>\n",
              "      <th>7</th>\n",
              "      <td>odamadiaz</td>\n",
              "      <td>ESTADO ANZOATEGUI, VENEZUELA</td>\n",
              "      <td>RT @ConElMazoDando: Gobierno Bolivariano está ...</td>\n",
              "      <td>Positivo</td>\n",
              "      <td>56</td>\n",
              "    </tr>\n",
              "    <tr>\n",
              "      <th>8</th>\n",
              "      <td>Batracotoxina2</td>\n",
              "      <td>NaN</td>\n",
              "      <td>RT @DayanaP85955375: #SOSColombiaNosEstanMatan...</td>\n",
              "      <td>Positivo</td>\n",
              "      <td>70</td>\n",
              "    </tr>\n",
              "    <tr>\n",
              "      <th>9</th>\n",
              "      <td>badkindofgab</td>\n",
              "      <td>Cali, Colombia</td>\n",
              "      <td>RT @DayanaP85955375: #SOSColombiaNosEstanMatan...</td>\n",
              "      <td>Positivo</td>\n",
              "      <td>70</td>\n",
              "    </tr>\n",
              "    <tr>\n",
              "      <th>10</th>\n",
              "      <td>AngieFdaUribe</td>\n",
              "      <td>Colombia 🇨🇴</td>\n",
              "      <td>RT @LSantandereana: Gracias por ser voz❤️🇨🇴\\n@...</td>\n",
              "      <td>Positivo</td>\n",
              "      <td>82</td>\n",
              "    </tr>\n",
              "    <tr>\n",
              "      <th>11</th>\n",
              "      <td>fuelsmicroalgae</td>\n",
              "      <td>Germany</td>\n",
              "      <td>RT @Anonymous_CO: El medio de desinformación C...</td>\n",
              "      <td>Positivo</td>\n",
              "      <td>57</td>\n",
              "    </tr>\n",
              "    <tr>\n",
              "      <th>12</th>\n",
              "      <td>LuisAlf34690371</td>\n",
              "      <td>NaN</td>\n",
              "      <td>RT @ConElMazoDando: Gran Misión Vivienda Venez...</td>\n",
              "      <td>Positivo</td>\n",
              "      <td>75</td>\n",
              "    </tr>\n",
              "    <tr>\n",
              "      <th>13</th>\n",
              "      <td>SinSentido96Col</td>\n",
              "      <td>NaN</td>\n",
              "      <td>RT @DayanaP85955375: #SOSColombiaNosEstanMatan...</td>\n",
              "      <td>Positivo</td>\n",
              "      <td>70</td>\n",
              "    </tr>\n",
              "    <tr>\n",
              "      <th>14</th>\n",
              "      <td>marisela0709</td>\n",
              "      <td>NaN</td>\n",
              "      <td>RT @dcabellor: #DuqueNarcoParacoYAsesino el va...</td>\n",
              "      <td>Positivo</td>\n",
              "      <td>60</td>\n",
              "    </tr>\n",
              "    <tr>\n",
              "      <th>15</th>\n",
              "      <td>EdwinGudio5</td>\n",
              "      <td>NaN</td>\n",
              "      <td>RT @ConElMazoDando: Gran Misión Vivienda Venez...</td>\n",
              "      <td>Positivo</td>\n",
              "      <td>75</td>\n",
              "    </tr>\n",
              "    <tr>\n",
              "      <th>16</th>\n",
              "      <td>BrolyDevHD</td>\n",
              "      <td>España</td>\n",
              "      <td>RT @GermanBlancocan: #ColombiaEnLucha\\n#DuqueN...</td>\n",
              "      <td>Positivo</td>\n",
              "      <td>64</td>\n",
              "    </tr>\n",
              "    <tr>\n",
              "      <th>17</th>\n",
              "      <td>LuisAlf34690371</td>\n",
              "      <td>NaN</td>\n",
              "      <td>RT @ConElMazoDando: Comisión de Ecosocialismo ...</td>\n",
              "      <td>Positivo</td>\n",
              "      <td>64</td>\n",
              "    </tr>\n",
              "    <tr>\n",
              "      <th>18</th>\n",
              "      <td>RafaelL58477815</td>\n",
              "      <td>Trujillo, Venezuela</td>\n",
              "      <td>RT @ConElMazoDando: Gran Misión Vivienda Venez...</td>\n",
              "      <td>Positivo</td>\n",
              "      <td>75</td>\n",
              "    </tr>\n",
              "    <tr>\n",
              "      <th>19</th>\n",
              "      <td>LinaresSakira</td>\n",
              "      <td>Valera, Estado Trujillo</td>\n",
              "      <td>RT @ConElMazoDando: Comisión de Ecosocialismo ...</td>\n",
              "      <td>Positivo</td>\n",
              "      <td>64</td>\n",
              "    </tr>\n",
              "  </tbody>\n",
              "</table>\n",
              "</div>"
            ],
            "text/plain": [
              "               user                      location  ... sentiment probability\n",
              "0      im_valeria02                           NaN  ...  Positivo          72\n",
              "1         MarcialM2       Barquisimeto, Venezuela  ...  Positivo          58\n",
              "2         lui97ruiz        Bogotá, D.C., Colombia  ...  Negativo          52\n",
              "3       chistosito1      En las calles del mundo.  ...  Positivo          58\n",
              "4         Frida0276        Bogotá, D.C., Colombia  ...  Positivo          55\n",
              "5           acama10            Medellín, Colombia  ...  Positivo          53\n",
              "6          Liamoyo1                           NaN  ...  Positivo          61\n",
              "7         odamadiaz  ESTADO ANZOATEGUI, VENEZUELA  ...  Positivo          56\n",
              "8    Batracotoxina2                           NaN  ...  Positivo          70\n",
              "9      badkindofgab                Cali, Colombia  ...  Positivo          70\n",
              "10    AngieFdaUribe                   Colombia 🇨🇴  ...  Positivo          82\n",
              "11  fuelsmicroalgae                       Germany  ...  Positivo          57\n",
              "12  LuisAlf34690371                           NaN  ...  Positivo          75\n",
              "13  SinSentido96Col                           NaN  ...  Positivo          70\n",
              "14     marisela0709                           NaN  ...  Positivo          60\n",
              "15      EdwinGudio5                           NaN  ...  Positivo          75\n",
              "16       BrolyDevHD                        España  ...  Positivo          64\n",
              "17  LuisAlf34690371                           NaN  ...  Positivo          64\n",
              "18  RafaelL58477815           Trujillo, Venezuela  ...  Positivo          75\n",
              "19    LinaresSakira       Valera, Estado Trujillo  ...  Positivo          64\n",
              "\n",
              "[20 rows x 5 columns]"
            ]
          },
          "metadata": {
            "tags": []
          },
          "execution_count": 49
        }
      ]
    },
    {
      "cell_type": "code",
      "metadata": {
        "id": "EsA0SkFEbC4O"
      },
      "source": [
        "df.to_csv('/content/drive/MyDrive/Colab Notebooks/DataTwitter/ParoNacional_Duque.csv', index=False, encoding='utf-8')"
      ],
      "execution_count": null,
      "outputs": []
    },
    {
      "cell_type": "markdown",
      "metadata": {
        "id": "QV0k7lZWbVic"
      },
      "source": [
        "## Segunda forma de ejecutar el análisis (métodos)"
      ]
    },
    {
      "cell_type": "code",
      "metadata": {
        "id": "XRrBpjBHbiTr"
      },
      "source": [
        "#segunda forma de ejecutar el analisis (metodos)\n",
        "def f_prediction(row):\n",
        "  text=row['text']\n",
        "  textConvert = vect.transform([text]) \n",
        "  return label[clf.predict(textConvert)[0]]\n",
        "\n",
        "def f_probability(row):\n",
        "  text=row['text']\n",
        "  textConvert = vect.transform([text]) \n",
        "  return np.max(clf.predict_proba(textConvert))*100\n",
        "\n",
        "df[\"sentiment\"] = df.apply(f_prediction, axis=1) # recorriendo columnas\n",
        "df[\"probability\"] = df.apply(f_probability, axis=1) # recorriendo columnas"
      ],
      "execution_count": null,
      "outputs": []
    },
    {
      "cell_type": "code",
      "metadata": {
        "colab": {
          "base_uri": "https://localhost:8080/",
          "height": 382
        },
        "id": "oAf3WkNfcFJ5",
        "outputId": "88afd292-3837-40e5-edbf-270d9f509e90"
      },
      "source": [
        "import matplotlib.pyplot as plt\n",
        "\n",
        "#sentimientos = df[\"sentiment\"].unique()\n",
        "df.groupby('sentiment')['location'].nunique().plot(kind='bar')\n",
        "print(df.groupby(['sentiment']).size())\n",
        "\n",
        "#df.groupby(['sentiment']).size().unstack().plot(kind='bar',stacked=True)\n",
        "plt.show()\n",
        "\n",
        "#df.head(20)\n",
        "#df[\"sentiment\"].unique()"
      ],
      "execution_count": null,
      "outputs": [
        {
          "output_type": "stream",
          "text": [
            "sentiment\n",
            "Negativo     126\n",
            "Positivo    2874\n",
            "dtype: int64\n"
          ],
          "name": "stdout"
        },
        {
          "output_type": "display_data",
          "data": {
            "image/png": "[encoded data removed]",
            "text/plain": [
              "<Figure size 432x288 with 1 Axes>"
            ]
          },
          "metadata": {
            "tags": [],
            "needs_background": "light"
          }
        }
      ]
    },
    {
      "cell_type": "markdown",
      "metadata": {
        "id": "k26kuxUzcrYR"
      },
      "source": [
        "# tweets descargados #CoaliciondelaEsperanza"
      ]
    },
    {
      "cell_type": "code",
      "metadata": {
        "id": "Ndq2izYGcySh"
      },
      "source": [
        "pbar = pyprind.ProgBar(50000)"
      ],
      "execution_count": null,
      "outputs": []
    },
    {
      "cell_type": "code",
      "metadata": {
        "id": "6e5xbfgHWaXB"
      },
      "source": [
        "df = pd.read_csv('/content/drive/MyDrive/Colab Notebooks/DataTwitter/Coalicion_Esperanza.csv', encoding='utf-8')"
      ],
      "execution_count": null,
      "outputs": []
    },
    {
      "cell_type": "code",
      "metadata": {
        "colab": {
          "base_uri": "https://localhost:8080/",
          "height": 876
        },
        "id": "DC_LatIGWzvF",
        "outputId": "3c5ae90e-d78f-47a1-ce84-ee58aa263167"
      },
      "source": [
        "df['sentiment'] =''\n",
        "#creamos una columna llamada Probability donde guardaremos la acertabilidad que dio el clasificador\n",
        "df['probability']=0\n",
        "\n",
        "#conversión de sentimientos (numeros a palabras)= NONE->-1 | NEU -> 0 | P->1 | N->2\n",
        "label = {-1:'Sin sentimiento', 0:'Neutro', 1:'Positivo',2: 'Negativo'}\n",
        "for rowid in range(len(df.index)):\n",
        "  text=df['text'][rowid]\n",
        "  textConvert = vect.transform([text]) \n",
        "  df['sentiment'][rowid]=label[clf.predict(textConvert)[0]]\n",
        "  df['probability'][rowid]=np.max(clf.predict_proba(textConvert))*100\n",
        "  pbar.update()\n",
        "df.head(20)"
      ],
      "execution_count": null,
      "outputs": [
        {
          "output_type": "stream",
          "text": [
            "/usr/local/lib/python3.7/dist-packages/ipykernel_launcher.py:10: SettingWithCopyWarning: \n",
            "A value is trying to be set on a copy of a slice from a DataFrame\n",
            "\n",
            "See the caveats in the documentation: https://pandas.pydata.org/pandas-docs/stable/user_guide/indexing.html#returning-a-view-versus-a-copy\n",
            "  # Remove the CWD from sys.path while we load stuff.\n",
            "/usr/local/lib/python3.7/dist-packages/ipykernel_launcher.py:11: SettingWithCopyWarning: \n",
            "A value is trying to be set on a copy of a slice from a DataFrame\n",
            "\n",
            "See the caveats in the documentation: https://pandas.pydata.org/pandas-docs/stable/user_guide/indexing.html#returning-a-view-versus-a-copy\n",
            "  # This is added back by InteractiveShellApp.init_path()\n",
            "0% [###                           ] 100% | ETA: 00:35:57"
          ],
          "name": "stderr"
        },
        {
          "output_type": "execute_result",
          "data": {
            "text/html": [
              "<div>\n",
              "<style scoped>\n",
              "    .dataframe tbody tr th:only-of-type {\n",
              "        vertical-align: middle;\n",
              "    }\n",
              "\n",
              "    .dataframe tbody tr th {\n",
              "        vertical-align: top;\n",
              "    }\n",
              "\n",
              "    .dataframe thead th {\n",
              "        text-align: right;\n",
              "    }\n",
              "</style>\n",
              "<table border=\"1\" class=\"dataframe\">\n",
              "  <thead>\n",
              "    <tr style=\"text-align: right;\">\n",
              "      <th></th>\n",
              "      <th>user</th>\n",
              "      <th>location</th>\n",
              "      <th>text</th>\n",
              "      <th>sentiment</th>\n",
              "      <th>probability</th>\n",
              "    </tr>\n",
              "  </thead>\n",
              "  <tbody>\n",
              "    <tr>\n",
              "      <th>0</th>\n",
              "      <td>joseagu41135895</td>\n",
              "      <td>Bucaramanga, Colombia</td>\n",
              "      <td>RT @AABenedetti: La mayoría de la #Coalicionde...</td>\n",
              "      <td>Positivo</td>\n",
              "      <td>64</td>\n",
              "    </tr>\n",
              "    <tr>\n",
              "      <th>1</th>\n",
              "      <td>astridurbano</td>\n",
              "      <td>NaN</td>\n",
              "      <td>RT @elsemblante: Esta la \"oposición\" que nos q...</td>\n",
              "      <td>Negativo</td>\n",
              "      <td>60</td>\n",
              "    </tr>\n",
              "    <tr>\n",
              "      <th>2</th>\n",
              "      <td>OscarValencia1</td>\n",
              "      <td>Fuera de Colombia</td>\n",
              "      <td>RT @DonBarbado: Porsupuesto que la #Coaliciond...</td>\n",
              "      <td>Negativo</td>\n",
              "      <td>53</td>\n",
              "    </tr>\n",
              "    <tr>\n",
              "      <th>3</th>\n",
              "      <td>23dwn</td>\n",
              "      <td>NaN</td>\n",
              "      <td>RT @goldenxhae: Excelente momento para traer m...</td>\n",
              "      <td>Positivo</td>\n",
              "      <td>69</td>\n",
              "    </tr>\n",
              "    <tr>\n",
              "      <th>4</th>\n",
              "      <td>Nanabella2020</td>\n",
              "      <td>NaN</td>\n",
              "      <td>RT @Fennix73: Joven del paro, de cero a que ta...</td>\n",
              "      <td>Negativo</td>\n",
              "      <td>67</td>\n",
              "    </tr>\n",
              "    <tr>\n",
              "      <th>5</th>\n",
              "      <td>Herman_Cadena</td>\n",
              "      <td>Bogotá, DC, Colombia</td>\n",
              "      <td>RT @gacs1987: Se reúnen los que 𝙑𝙤𝙩𝙖𝙧𝙤𝙣 𝙀𝙣 𝘽𝙡𝙖...</td>\n",
              "      <td>Positivo</td>\n",
              "      <td>63</td>\n",
              "    </tr>\n",
              "    <tr>\n",
              "      <th>6</th>\n",
              "      <td>alejantrino</td>\n",
              "      <td>4.592655,-75.673837</td>\n",
              "      <td>RT @donadolforivas: Estos personajes llamaron ...</td>\n",
              "      <td>Positivo</td>\n",
              "      <td>68</td>\n",
              "    </tr>\n",
              "    <tr>\n",
              "      <th>7</th>\n",
              "      <td>TribunaMagister</td>\n",
              "      <td>Bogota</td>\n",
              "      <td>RT @JuanSLopezM: Con pancartas y camisetas con...</td>\n",
              "      <td>Positivo</td>\n",
              "      <td>50</td>\n",
              "    </tr>\n",
              "    <tr>\n",
              "      <th>8</th>\n",
              "      <td>uribevideos</td>\n",
              "      <td>Bogota</td>\n",
              "      <td>RT @DonBarbado: Porsupuesto que la #Coaliciond...</td>\n",
              "      <td>Negativo</td>\n",
              "      <td>53</td>\n",
              "    </tr>\n",
              "    <tr>\n",
              "      <th>9</th>\n",
              "      <td>johnjairogutie8</td>\n",
              "      <td>Bogotá, D.C., Colombia</td>\n",
              "      <td>RT @JulianEsBogota: Yo me siento representado ...</td>\n",
              "      <td>Positivo</td>\n",
              "      <td>63</td>\n",
              "    </tr>\n",
              "    <tr>\n",
              "      <th>10</th>\n",
              "      <td>DiegoCastilloB</td>\n",
              "      <td>NaN</td>\n",
              "      <td>RT @DonBarbado: Porsupuesto que la #Coaliciond...</td>\n",
              "      <td>Negativo</td>\n",
              "      <td>53</td>\n",
              "    </tr>\n",
              "    <tr>\n",
              "      <th>11</th>\n",
              "      <td>adriananana109</td>\n",
              "      <td>Boyacá, Colombia</td>\n",
              "      <td>Me representa mas una papa rellena que la tal ...</td>\n",
              "      <td>Positivo</td>\n",
              "      <td>65</td>\n",
              "    </tr>\n",
              "    <tr>\n",
              "      <th>12</th>\n",
              "      <td>julianacardonaj</td>\n",
              "      <td>France</td>\n",
              "      <td>RT @AABenedetti: La mayoría de la #Coalicionde...</td>\n",
              "      <td>Positivo</td>\n",
              "      <td>64</td>\n",
              "    </tr>\n",
              "    <tr>\n",
              "      <th>13</th>\n",
              "      <td>mundo_lopezc</td>\n",
              "      <td>NaN</td>\n",
              "      <td>RT @AABenedetti: La mayoría de la #Coalicionde...</td>\n",
              "      <td>Positivo</td>\n",
              "      <td>64</td>\n",
              "    </tr>\n",
              "    <tr>\n",
              "      <th>14</th>\n",
              "      <td>JorgeEOrtizVel3</td>\n",
              "      <td>NaN</td>\n",
              "      <td>RT @RevistaSemana: ¿Qué le pidieron al preside...</td>\n",
              "      <td>Positivo</td>\n",
              "      <td>69</td>\n",
              "    </tr>\n",
              "    <tr>\n",
              "      <th>15</th>\n",
              "      <td>23dwn</td>\n",
              "      <td>NaN</td>\n",
              "      <td>RT @goldenxhae: Y si en vez de hacer hashtags ...</td>\n",
              "      <td>Positivo</td>\n",
              "      <td>62</td>\n",
              "    </tr>\n",
              "    <tr>\n",
              "      <th>16</th>\n",
              "      <td>jolulemo</td>\n",
              "      <td>NaN</td>\n",
              "      <td>RT @CristoBustos: En #CoaliciondelaEsperanza s...</td>\n",
              "      <td>Positivo</td>\n",
              "      <td>70</td>\n",
              "    </tr>\n",
              "    <tr>\n",
              "      <th>17</th>\n",
              "      <td>MejorConfluir</td>\n",
              "      <td>NaN</td>\n",
              "      <td>RT @JuanitaGoe: Declaraciones de la #Coalicion...</td>\n",
              "      <td>Positivo</td>\n",
              "      <td>71</td>\n",
              "    </tr>\n",
              "    <tr>\n",
              "      <th>18</th>\n",
              "      <td>Edtumb</td>\n",
              "      <td>Cali, Colombia</td>\n",
              "      <td>RT @vid_narvaez: La #CoaliciónDeLaEsperanza es...</td>\n",
              "      <td>Positivo</td>\n",
              "      <td>67</td>\n",
              "    </tr>\n",
              "    <tr>\n",
              "      <th>19</th>\n",
              "      <td>juliapatriciaf3</td>\n",
              "      <td>NaN</td>\n",
              "      <td>RT @JuanitaGoe: Mensajes de la #CoaliciónDeLaE...</td>\n",
              "      <td>Positivo</td>\n",
              "      <td>61</td>\n",
              "    </tr>\n",
              "  </tbody>\n",
              "</table>\n",
              "</div>"
            ],
            "text/plain": [
              "               user                location  ... sentiment probability\n",
              "0   joseagu41135895   Bucaramanga, Colombia  ...  Positivo          64\n",
              "1      astridurbano                     NaN  ...  Negativo          60\n",
              "2    OscarValencia1      Fuera de Colombia   ...  Negativo          53\n",
              "3             23dwn                     NaN  ...  Positivo          69\n",
              "4     Nanabella2020                     NaN  ...  Negativo          67\n",
              "5     Herman_Cadena    Bogotá, DC, Colombia  ...  Positivo          63\n",
              "6       alejantrino     4.592655,-75.673837  ...  Positivo          68\n",
              "7   TribunaMagister                  Bogota  ...  Positivo          50\n",
              "8       uribevideos                  Bogota  ...  Negativo          53\n",
              "9   johnjairogutie8  Bogotá, D.C., Colombia  ...  Positivo          63\n",
              "10   DiegoCastilloB                     NaN  ...  Negativo          53\n",
              "11   adriananana109        Boyacá, Colombia  ...  Positivo          65\n",
              "12  julianacardonaj                  France  ...  Positivo          64\n",
              "13     mundo_lopezc                     NaN  ...  Positivo          64\n",
              "14  JorgeEOrtizVel3                     NaN  ...  Positivo          69\n",
              "15            23dwn                     NaN  ...  Positivo          62\n",
              "16         jolulemo                     NaN  ...  Positivo          70\n",
              "17    MejorConfluir                     NaN  ...  Positivo          71\n",
              "18           Edtumb          Cali, Colombia  ...  Positivo          67\n",
              "19  juliapatriciaf3                     NaN  ...  Positivo          61\n",
              "\n",
              "[20 rows x 5 columns]"
            ]
          },
          "metadata": {
            "tags": []
          },
          "execution_count": 55
        }
      ]
    },
    {
      "cell_type": "markdown",
      "metadata": {
        "id": "84rPpkL1b799"
      },
      "source": [
        "Segunda Forma Ejecutar el analisis"
      ]
    },
    {
      "cell_type": "code",
      "metadata": {
        "id": "wrsUSunFb-GV"
      },
      "source": [
        "#segunda forma de ejecutar el analisis (metodos)\n",
        "def f_prediction(row):\n",
        "  text=row['text']\n",
        "  textConvert = vect.transform([text]) \n",
        "  return label[clf.predict(textConvert)[0]]\n",
        "\n",
        "def f_probability(row):\n",
        "  text=row['text']\n",
        "  textConvert = vect.transform([text]) \n",
        "  return np.max(clf.predict_proba(textConvert))*100\n",
        "\n",
        "df[\"sentiment\"] = df.apply(f_prediction, axis=1) # recorriendo columnas\n",
        "df[\"probability\"] = df.apply(f_probability, axis=1) # recorriendo columnas]"
      ],
      "execution_count": null,
      "outputs": []
    },
    {
      "cell_type": "code",
      "metadata": {
        "colab": {
          "base_uri": "https://localhost:8080/",
          "height": 382
        },
        "id": "eR0DR4QBcO95",
        "outputId": "0898b5ef-e781-412a-f549-937f87ca2f18"
      },
      "source": [
        "import matplotlib.pyplot as plt\n",
        "\n",
        "#sentimientos = df[\"sentiment\"].unique()\n",
        "df.groupby('sentiment')['location'].nunique().plot(kind='bar')\n",
        "print(df.groupby(['sentiment']).size())\n",
        "\n",
        "#df.groupby(['sentiment']).size().unstack().plot(kind='bar',stacked=True)\n",
        "plt.show()\n",
        "\n",
        "#df.head(20)\n",
        "#df[\"sentiment\"].unique()"
      ],
      "execution_count": null,
      "outputs": [
        {
          "output_type": "stream",
          "text": [
            "sentiment\n",
            "Negativo     805\n",
            "Positivo    4195\n",
            "dtype: int64\n"
          ],
          "name": "stdout"
        },
        {
          "output_type": "display_data",
          "data": {
            "image/png": "[encoded data removed]",
            "text/plain": [
              "<Figure size 432x288 with 1 Axes>"
            ]
          },
          "metadata": {
            "tags": [],
            "needs_background": "light"
          }
        }
      ]
    },
    {
      "cell_type": "markdown",
      "metadata": {
        "id": "Em0yaTGEgFXs"
      },
      "source": [
        "# Hacer uso de SQLite\n",
        "Generar DB de sqlite"
      ]
    },
    {
      "cell_type": "code",
      "metadata": {
        "id": "U5tXqEQngKPb"
      },
      "source": [
        "import sqlite3\n",
        "import os\n",
        "\n",
        "if os.path.exists('tweets.sqlite'):\n",
        "    os.remove('tweets.sqlite')\n",
        "\n",
        "conn = sqlite3.connect('tweets.sqlite')\n",
        "c = conn.cursor()\n",
        "c.execute('CREATE TABLE tweets_db (tweet TEXT, sentiment INTEGER, date TEXT)')\n",
        "\n",
        "example1 = 'que aburrido es estar en cuarentena…'\n",
        "c.execute(\"INSERT INTO tweets_db (tweet, sentiment, date) VALUES (?, ?, DATETIME('now'))\", (example1, 2))\n",
        "\n",
        "example2 = 'Estoy feliz de estar con mi familia'\n",
        "c.execute(\"INSERT INTO tweets_db (tweet, sentiment, date) VALUES (?, ?, DATETIME('now'))\", (example2, 1))\n",
        "\n",
        "conn.commit()\n",
        "conn.close()"
      ],
      "execution_count": null,
      "outputs": []
    },
    {
      "cell_type": "markdown",
      "metadata": {
        "id": "AkkHKjB4gMYD"
      },
      "source": [
        "## Consultar la DB"
      ]
    },
    {
      "cell_type": "code",
      "metadata": {
        "id": "ArLfSsacgQii",
        "colab": {
          "base_uri": "https://localhost:8080/"
        },
        "outputId": "0fccbf4d-22b6-49f9-e083-2c7fd9583e62"
      },
      "source": [
        "conn = sqlite3.connect('tweets.sqlite')\n",
        "c = conn.cursor()\n",
        "\n",
        "c.execute(\"SELECT * FROM tweets_db WHERE date BETWEEN '2019-01-01 10:10:10' AND DATETIME('now')\")\n",
        "results = c.fetchall()\n",
        "conn.close()\n",
        "\n",
        "print(results)"
      ],
      "execution_count": null,
      "outputs": [
        {
          "output_type": "stream",
          "text": [
            "[('que aburrido es estar en cuarentena…', 2, '2021-05-07 06:25:34'), ('Estoy feliz de estar con mi familia', 1, '2021-05-07 06:25:34')]\n"
          ],
          "name": "stdout"
        }
      ]
    }
  ]
}