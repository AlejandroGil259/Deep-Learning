{
  "nbformat": 4,
  "nbformat_minor": 0,
  "metadata": {
    "colab": {
      "name": "P1T1_basic_concepts.ipynb",
      "provenance": [],
      "collapsed_sections": [
        "Omiz4CIpct8N",
        "MPm7BWYn3Bf-",
        "MjjkYSk41UJq"
      ],
      "toc_visible": true
    },
    "kernelspec": {
      "name": "python3",
      "display_name": "Python 3"
    }
  },
  "cells": [
    {
      "cell_type": "markdown",
      "metadata": {
        "id": "wdedvpvARZk-"
      },
      "source": [
        "# **Conceptos basicos en Python**\r\n"
      ]
    },
    {
      "cell_type": "markdown",
      "metadata": {
        "id": "ecNyV9w2fh7q"
      },
      "source": [
        "P1T1_PYTHON_BASIC_SAGE"
      ]
    },
    {
      "cell_type": "markdown",
      "metadata": {
        "id": "6UbkjJ7kSJZA"
      },
      "source": [
        "## Primer Ejercicio Python\r\n",
        "\r\n",
        "Metodo clasico\r\n",
        "- Realice un programa en Python que determine el mayor de tres números:\r\n"
      ]
    },
    {
      "cell_type": "code",
      "metadata": {
        "id": "2DEhi8IRZmQW",
        "colab": {
          "base_uri": "https://localhost:8080/"
        },
        "outputId": "01f7a9b5-5d6d-4e81-9e6a-09777d030d96"
      },
      "source": [
        "var1=int(input(\"ingresar el valor de la 1° variable:\"))\r\n",
        "var2=int(input(\"ingresar el valor de la 2° variable:\"))\r\n",
        "var3=int(input(\"ingresar el valor de la 3° variable:\"))\r\n",
        "if (var1>var2 and var1>var3):\r\n",
        "  print(\"El mayor es:\"+ str(var1))\r\n",
        "elif (var2>var1 and var2>var3):\r\n",
        " print(\"El mayor es: \"+ str(var2))\r\n",
        "else:\r\n",
        "  print(\"El mayor es: \"+ str(var3))"
      ],
      "execution_count": null,
      "outputs": [
        {
          "output_type": "stream",
          "text": [
            "ingresar el valor de la 1° variable:5\n",
            "ingresar el valor de la 2° variable:2\n",
            "ingresar el valor de la 3° variable:1\n",
            "El mayor es:5\n"
          ],
          "name": "stdout"
        }
      ]
    },
    {
      "cell_type": "markdown",
      "metadata": {
        "id": "1hjybzyUbrnX"
      },
      "source": [
        "Metodo Python"
      ]
    },
    {
      "cell_type": "code",
      "metadata": {
        "id": "FqF21IaFbuW1",
        "colab": {
          "base_uri": "https://localhost:8080/"
        },
        "outputId": "1d7fffcf-b61c-4214-f6fd-b12f90d00d4b"
      },
      "source": [
        "var1, var2, var3 = input(\"Ingrese los tres numeros separados por coma:\") .split(\",\")\r\n",
        "print(\"El numero maximo es: \" + str(max(var1,var2,var3)))"
      ],
      "execution_count": 2,
      "outputs": [
        {
          "output_type": "stream",
          "text": [
            "Ingrese los tres numeros separados por coma:3,4,5\n",
            "El numero maximo es: 5\n"
          ],
          "name": "stdout"
        }
      ]
    },
    {
      "cell_type": "markdown",
      "metadata": {
        "id": "Omiz4CIpct8N"
      },
      "source": [
        "## Segundo Ejercicio Python"
      ]
    },
    {
      "cell_type": "markdown",
      "metadata": {
        "id": "yc6FTpx-fEi5"
      },
      "source": [
        "Metodo Clasico\r\n",
        "- Diseñar un programa en PYTHON donde se ingresen N cantidad de números y me imprima\r\n",
        "la suma"
      ]
    },
    {
      "cell_type": "code",
      "metadata": {
        "id": "j0b5OpZZcz-l",
        "colab": {
          "base_uri": "https://localhost:8080/"
        },
        "outputId": "e03f76c9-ffaa-4033-d135-1b527c163931"
      },
      "source": [
        "tot=int(input(\"Ingrese la cantidad N de números: \"))\r\n",
        "suma=0\r\n",
        "for i in range(0, tot):\r\n",
        "  suma+=int  (input(\"ingrese el valor del num\"+str(i)+\":\"))\r\n",
        "print(\"El total es: \"+str(suma))"
      ],
      "execution_count": null,
      "outputs": [
        {
          "output_type": "stream",
          "text": [
            "Ingrese la cantidad N de números: 5\n",
            "ingrese el valor del num0:1\n",
            "ingrese el valor del num1:2\n",
            "ingrese el valor del num2:3\n",
            "ingrese el valor del num3:4\n",
            "ingrese el valor del num4:5\n",
            "El total es: 15\n"
          ],
          "name": "stdout"
        }
      ]
    },
    {
      "cell_type": "markdown",
      "metadata": {
        "id": "GfP2ltove_JF"
      },
      "source": [
        "Metodo Python"
      ]
    },
    {
      "cell_type": "code",
      "metadata": {
        "colab": {
          "base_uri": "https://localhost:8080/"
        },
        "id": "GddK0TVofDFq",
        "outputId": "e9204c5e-cd5c-4e58-f179-38733f931ea8"
      },
      "source": [
        "suma=0\r\n",
        "for i in range(0, int(input(\"Ingrese la cantidad N de números: \"))):\r\n",
        "  suma+=int(input(\"ingrese el valor del num\"+str(i)+\":\"))\r\n",
        "print(\"El total es: \"+str(suma))"
      ],
      "execution_count": null,
      "outputs": [
        {
          "output_type": "stream",
          "text": [
            "Ingrese la cantidad N de números: 3\n",
            "ingrese el valor del num0:5\n",
            "ingrese el valor del num1:6\n",
            "ingrese el valor del num2:7\n",
            "El total es: 18\n"
          ],
          "name": "stdout"
        }
      ]
    },
    {
      "cell_type": "markdown",
      "metadata": {
        "id": "Z5NQBE4J6Vpw"
      },
      "source": [
        "## Tercer Ejercicio Python"
      ]
    },
    {
      "cell_type": "markdown",
      "metadata": {
        "id": "M-58BQ6s6p7A"
      },
      "source": [
        "Metodo Clasico\r\n",
        "- Diseñe un programa (máximo 5 líneas) que me visualice únicamente los números pares existentes entre dos números."
      ]
    },
    {
      "cell_type": "code",
      "metadata": {
        "colab": {
          "base_uri": "https://localhost:8080/"
        },
        "id": "Jic0xs-460Bd",
        "outputId": "c3f52378-6258-4987-ab5a-738af6969ad4"
      },
      "source": [
        "inicio=int(input(\"Numero minimo: \"))\r\n",
        "fin=int(input(\"Numero final: \")) \r\n",
        "for i in range(inicio,fin):\r\n",
        "  if ((i%2)==0):\r\n",
        "    print(\"El numero par: \" + str(i))"
      ],
      "execution_count": null,
      "outputs": [
        {
          "output_type": "stream",
          "text": [
            "Numero minimo: 2\n",
            "Numero final: 10\n",
            "El numero par: 2\n",
            "El numero par: 4\n",
            "El numero par: 6\n",
            "El numero par: 8\n"
          ],
          "name": "stdout"
        }
      ]
    },
    {
      "cell_type": "markdown",
      "metadata": {
        "id": "UKTy9oUb8LO3"
      },
      "source": [
        "Metodo Python"
      ]
    },
    {
      "cell_type": "code",
      "metadata": {
        "colab": {
          "base_uri": "https://localhost:8080/"
        },
        "id": "KqI-HB2M8O4q",
        "outputId": "14757df2-19b2-46d7-e382-79b91572c004"
      },
      "source": [
        "for i in range(int(input(\"Número minimo: \")),int(input(\"Número final: \"))):\r\n",
        "  if((i%2)==0): \r\n",
        "    print(\"El numero par :\"+ str(i))"
      ],
      "execution_count": null,
      "outputs": [
        {
          "output_type": "stream",
          "text": [
            "Número minimo: 2\n",
            "Número final: 12\n",
            "El numero par :2\n",
            "El numero par :4\n",
            "El numero par :6\n",
            "El numero par :8\n",
            "El numero par :10\n"
          ],
          "name": "stdout"
        }
      ]
    },
    {
      "cell_type": "markdown",
      "metadata": {
        "id": "N64vHQd79J9j"
      },
      "source": [
        "# **Manejo de listas / vectores**"
      ]
    },
    {
      "cell_type": "markdown",
      "metadata": {
        "id": "5eoRq9PB-ROa"
      },
      "source": [
        "## Primer Ejercicio\r\n",
        "Diseñe un programa que me visualice dos listado concatenados:\r\n",
        "\r\n",
        "• Uno donde los números sean de 1 al 12. \r\n",
        "\r\n",
        "• Otro listado donde los números sean del 12 al 1"
      ]
    },
    {
      "cell_type": "code",
      "metadata": {
        "colab": {
          "base_uri": "https://localhost:8080/"
        },
        "id": "wNy9dBiaygcB",
        "outputId": "6f25a0b3-d84d-454c-ff5c-c8036abcb34c"
      },
      "source": [
        "# Metodo clasico\r\n",
        "rango1=list(range(1,13)) \r\n",
        "rango2=list(range(12,0,-1)) \r\n",
        "print(rango1+rango2)"
      ],
      "execution_count": 5,
      "outputs": [
        {
          "output_type": "stream",
          "text": [
            "[1, 2, 3, 4, 5, 6, 7, 8, 9, 10, 11, 12, 12, 11, 10, 9, 8, 7, 6, 5, 4, 3, 2, 1]\n"
          ],
          "name": "stdout"
        }
      ]
    },
    {
      "cell_type": "code",
      "metadata": {
        "colab": {
          "base_uri": "https://localhost:8080/"
        },
        "id": "mbPIr_THy23d",
        "outputId": "a98550d4-28e1-464c-eb07-01e06ae74bdb"
      },
      "source": [
        "# Metodo Python\r\n",
        "lista = list(range(1,12))\r\n",
        "print(lista+lista[::-1])"
      ],
      "execution_count": 6,
      "outputs": [
        {
          "output_type": "stream",
          "text": [
            "[1, 2, 3, 4, 5, 6, 7, 8, 9, 10, 11, 11, 10, 9, 8, 7, 6, 5, 4, 3, 2, 1]\n"
          ],
          "name": "stdout"
        }
      ]
    },
    {
      "cell_type": "markdown",
      "metadata": {
        "id": "8j6Uc2wlzRcc"
      },
      "source": [
        "# Segundo Ejercicio"
      ]
    },
    {
      "cell_type": "markdown",
      "metadata": {
        "id": "6ppCv362zVj0"
      },
      "source": [
        "Diseñe un programa que me visualice un listado de 10 números aleatorios entre 1 y 100\r\n",
        "\r\n",
        "- Usar libreria"
      ]
    },
    {
      "cell_type": "code",
      "metadata": {
        "colab": {
          "base_uri": "https://localhost:8080/"
        },
        "id": "0o4Ijytfzcqb",
        "outputId": "98fdeaa5-d38e-4732-d7bc-4bf1bb70dcf1"
      },
      "source": [
        "#Método clásico\r\n",
        "import random\r\n",
        "lista= [ random.randrange(10)\r\n",
        "for i in range(10)] \r\n",
        "print(lista)"
      ],
      "execution_count": 8,
      "outputs": [
        {
          "output_type": "stream",
          "text": [
            "[0, 4, 2, 6, 0, 5, 8, 2, 7, 0]\n"
          ],
          "name": "stdout"
        }
      ]
    },
    {
      "cell_type": "code",
      "metadata": {
        "colab": {
          "base_uri": "https://localhost:8080/"
        },
        "id": "IGmmn017zumI",
        "outputId": "49e0069d-901c-4b40-ca43-9db62e8d7322"
      },
      "source": [
        "# Metodo Python\r\n",
        "import random\r\n",
        "for i in range(10): print(random.randrange(50))"
      ],
      "execution_count": 9,
      "outputs": [
        {
          "output_type": "stream",
          "text": [
            "14\n",
            "35\n",
            "6\n",
            "25\n",
            "49\n",
            "20\n",
            "48\n",
            "16\n",
            "23\n",
            "31\n"
          ],
          "name": "stdout"
        }
      ]
    },
    {
      "cell_type": "markdown",
      "metadata": {
        "id": "YHpktPNkz_hS"
      },
      "source": [
        "# **Libreria NUMPY**"
      ]
    },
    {
      "cell_type": "markdown",
      "metadata": {
        "id": "MPm7BWYn3Bf-"
      },
      "source": [
        "## Primer Ejercicio \r\n",
        "Diseñe un programa que me genere un listado con las edades de N habitantes de una ciudad, donde la cantidad de habitantes sea un valor randomico entre 1000 y 50000 y la edad de cada persona también debe ser un randomico entre 1 y 100 años. Al final del el programa me debe indicar cuanto es la población total y el porcentaje de cuantos son mayores de edad (>=18) y cuantos no. "
      ]
    },
    {
      "cell_type": "code",
      "metadata": {
        "colab": {
          "base_uri": "https://localhost:8080/"
        },
        "id": "O05e17i-0LM4",
        "outputId": "7972bb67-9fb9-44e4-9b7a-8a90bf56e587"
      },
      "source": [
        "import numpy as np\r\n",
        "from random import randint\r\n",
        "matriz = np.array([[i+1, randint(10000,70000)] \r\n",
        "for i in range(10)])\r\n",
        "print(matriz)"
      ],
      "execution_count": 10,
      "outputs": [
        {
          "output_type": "stream",
          "text": [
            "[[    1 53470]\n",
            " [    2 48956]\n",
            " [    3 60222]\n",
            " [    4 44925]\n",
            " [    5 17459]\n",
            " [    6 15106]\n",
            " [    7 27351]\n",
            " [    8 10876]\n",
            " [    9 18144]\n",
            " [   10 63858]]\n"
          ],
          "name": "stdout"
        }
      ]
    },
    {
      "cell_type": "markdown",
      "metadata": {
        "id": "MjjkYSk41UJq"
      },
      "source": [
        "## Segundo Ejercico\r\n",
        "Diseñe un programa (máximo 5 líneas) donde 6 candidat@s se disputan la alcaldía (ayuntamiento municipal), los candidat@s de los siguientes partidos:\r\n",
        "(utilicé la librería numpy)\r\n",
        "\r\n",
        "1 – socio-democratico\r\n",
        "\r\n",
        "2 – Ultra-derechista\r\n",
        "\r\n",
        "3 – primero los ricos\r\n",
        "\r\n",
        "4 – Centro demoniaco\r\n",
        "\r\n",
        "5 – Cambio invertido\r\n",
        "\r\n",
        "6 – Alianza queremos más pobres\r\n",
        "\r\n",
        "Los votos de cada candidato son generados de forma aleatoria entre 1 y 25000 votos máximo, el software debe determinar quién fue el ganador. \r\n"
      ]
    },
    {
      "cell_type": "code",
      "metadata": {
        "colab": {
          "base_uri": "https://localhost:8080/"
        },
        "id": "-ETGoMkv1iLv",
        "outputId": "c97af70a-0027-4556-e678-3456556445ca"
      },
      "source": [
        "import numpy as np\r\n",
        "from random import randint\r\n",
        "matriz = np.array([[i+1, randint(1,25000)] for i in range(6)])\r\n",
        "ganador = np.where(matriz[:,1] == matriz[:,1].max())\r\n",
        "print(\"Las votaciones fueron: \\n\" + str(matriz) + \" \\n El ganador es: \" + str(matriz[ganador[0]]))"
      ],
      "execution_count": 20,
      "outputs": [
        {
          "output_type": "stream",
          "text": [
            "Las votaciones fueron: \n",
            "[[    1 12352]\n",
            " [    2  3884]\n",
            " [    3   940]\n",
            " [    4 11197]\n",
            " [    5 12959]\n",
            " [    6 15588]] \n",
            " El ganador es: [[    6 15588]]\n"
          ],
          "name": "stdout"
        }
      ]
    },
    {
      "cell_type": "markdown",
      "metadata": {
        "id": "Eom0Si0C2f5Z"
      },
      "source": [
        "## Tercer Ejercicio\r\n",
        "Crear un programa en PYTHON para simular una carrera de formula uno, en donde: Existen 5 vehículos \r\n",
        "1.  Renault \r\n",
        "2.  Ferrari \r\n",
        "3.  Mercedez, \r\n",
        "4.  Ford \r\n",
        "5.  Red bull\r\n",
        "\r\n",
        "La carrera esta diseñada para 4 vueltas donde el tiempo mínimo es 8.2 segundos y el máximo es 10 segundos.\r\n",
        "Diseñe la matriz de 5 x 4 donde determine cual es el vehículo ganador donde los tiempos de cada vehículo por vuelta se un randomico."
      ]
    },
    {
      "cell_type": "code",
      "metadata": {
        "colab": {
          "base_uri": "https://localhost:8080/"
        },
        "id": "goMCVjQn3ZOG",
        "outputId": "c92e3955-5378-4312-857e-1d18fcba64cc"
      },
      "source": [
        "import numpy as np\r\n",
        "matriz = np.random.uniform(8.2,10,size=(4,5))\r\n",
        "tot_vueltas = np.array([[corredor+1,matriz[:,corredor].sum()] \r\n",
        "for corredor in range(len(matriz[0]))])\r\n",
        "ganador=np.where(matriz == matriz[:,1].min())\r\n",
        "print (\"Resultados de la carrera: \\n\\n\"+str(matriz)+\"\\n\\n El Piloto ganador fue el: \"+str(tot_vueltas[ganador[0]]))"
      ],
      "execution_count": 26,
      "outputs": [
        {
          "output_type": "stream",
          "text": [
            "Resultados de la carrera: \n",
            "\n",
            "[[8.76011928 9.63124355 9.6900682  8.93272128 9.18744346]\n",
            " [9.20712782 8.8758314  8.68781947 9.20618059 9.58355836]\n",
            " [9.66199191 8.96198253 9.39499357 9.08409689 9.77261587]\n",
            " [9.12361711 8.54191366 8.31237998 9.74800866 9.49408957]]\n",
            "\n",
            " El Piloto ganador fue el: [[ 4.         36.97100742]]\n"
          ],
          "name": "stdout"
        }
      ]
    },
    {
      "cell_type": "markdown",
      "metadata": {
        "id": "szXRbOVD4AZa"
      },
      "source": [
        "# **Scipy**\r\n",
        " *open-source software \r\n",
        "for mathematics, science, and engineering*"
      ]
    },
    {
      "cell_type": "markdown",
      "metadata": {
        "id": "vpZuV5ma4Ifd"
      },
      "source": [
        "• Una colección de algoritmos matemáticos y funciones de conveniencia construidas en la extensión Numpy de Python.\r\n",
        "\r\n",
        "• Agrega un poder significativo a la sesión interactiva de Python al proporcionarle al usuario comandos y clases de alto nivel para manipular y visualizar datos.\r\n",
        "\r\n",
        "• Un entorno de procesamiento de datos y prototipos de sistemas en Python que compite con sistemas como MATLAB, IDL, Octave, R-Lab y SciLab.\r\n",
        "\r\n",
        "**SciPy** está organizado en subpaquetes que cubren diferentes dominios de computación científica. Estos se resumen en la siguiente tabla.\r\n",
        "\r\n",
        "\r\n",
        "![imagen_2021-02-16_123213.png](data:image/png;base64,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)"
      ]
    },
    {
      "cell_type": "markdown",
      "metadata": {
        "id": "Pa0gtitT50wR"
      },
      "source": [
        "# **Matplotlib biblioteca de graficos 2D de Python**\r\n"
      ]
    },
    {
      "cell_type": "markdown",
      "metadata": {
        "id": "qR7XX9Sh6Soy"
      },
      "source": [
        "Puede generar gráficos:\r\n",
        "\r\n",
        "• Histogramas \r\n",
        "\r\n",
        "• Espectros de potencia\r\n",
        "\r\n",
        "• De barras \r\n",
        "\r\n",
        "• De error \r\n",
        "\r\n",
        "• De dispersión, etc.\r\n",
        "\r\n",
        "Con solo unas pocas líneas de código"
      ]
    },
    {
      "cell_type": "markdown",
      "metadata": {
        "id": "tCIF2uhd6zxP"
      },
      "source": [
        "## Primer Ejercicio"
      ]
    },
    {
      "cell_type": "code",
      "metadata": {
        "colab": {
          "base_uri": "https://localhost:8080/",
          "height": 265
        },
        "id": "MuVI--7763hQ",
        "outputId": "79723a7a-4393-42dc-be90-1e716fd8621c"
      },
      "source": [
        "import matplotlib.pyplot as plt\r\n",
        "plt.plot([10,20,40,20])\r\n",
        "plt.ylabel(\"Gráfico Básico\")\r\n",
        "plt.show()"
      ],
      "execution_count": 27,
      "outputs": [
        {
          "output_type": "display_data",
          "data": {
            "image/png": "[encoded data removed]",
            "text/plain": [
              "<Figure size 432x288 with 1 Axes>"
            ]
          },
          "metadata": {
            "tags": [],
            "needs_background": "light"
          }
        }
      ]
    },
    {
      "cell_type": "code",
      "metadata": {
        "colab": {
          "base_uri": "https://localhost:8080/",
          "height": 265
        },
        "id": "Hq35OKn57HEV",
        "outputId": "067dd4a7-615e-47a7-d767-464a304c3ba2"
      },
      "source": [
        "# Matplotlib.Pyplot\r\n",
        "\r\n",
        "import matplotlib.pyplot as plt\r\n",
        "import random\r\n",
        "lista = [random.randrange(10) for i in range(10)]\r\n",
        "plt.plot(lista, 'ro')\r\n",
        "plt.ylabel(\"Números random de 0 a 10\")\r\n",
        "plt.show()"
      ],
      "execution_count": 28,
      "outputs": [
        {
          "output_type": "display_data",
          "data": {
            "image/png": "[encoded data removed]",
            "text/plain": [
              "<Figure size 432x288 with 1 Axes>"
            ]
          },
          "metadata": {
            "tags": [],
            "needs_background": "light"
          }
        }
      ]
    },
    {
      "cell_type": "markdown",
      "metadata": {
        "id": "zyh-bi8K7T5B"
      },
      "source": [
        "## Segundo Ejercicio\r\n",
        "visualice en gráficos de dispersión [pyplot (scatter)] o de barras tomando los valores obtenidos de los ejercicios:\r\n"
      ]
    },
    {
      "cell_type": "code",
      "metadata": {
        "colab": {
          "base_uri": "https://localhost:8080/",
          "height": 375
        },
        "id": "ft8AWI8Q7uoD",
        "outputId": "1c43f0b0-273a-429f-f048-041a97e01f1f"
      },
      "source": [
        "# Candidat@s a la alcaldía (ayuntamiento)  - Barras\r\n",
        "import numpy as np\r\n",
        "from random import randint\r\n",
        "import matplotlib.pyplot as plt\r\n",
        "\r\n",
        "# Votaciones\r\n",
        "matriz = np.array([[i+1, randint(1,20000)] for i in range(6)])\r\n",
        "ganador = np.where(matriz == matriz[:,1].max())\r\n",
        "# Diagrama de Barras\r\n",
        "fig = plt.figure('Gráfica de Barras') # Generación de Ventana\r\n",
        "ax = fig.add_subplot(1,1,1) # Un eje coordenado\r\n",
        "nombres = ['1. Socio-democrático', '2. Ultra-derecha', '3. Primero los ricos', '4. Centro corrupto', '5. Cambio invertido', '6. Alianza pobre']\r\n",
        "\r\n",
        "ax.bar(range(len(matriz)), matriz[:,1]) # Función bar para diagramar, con parametros de votos y puntos a ubicar\r\n",
        "ax.set_xticks(range(len(matriz[:,1]))) # Número de puntos a ubicar\r\n",
        "ax.set_xticklabels(nombres, rotation='vertical') # Agregar etiquetas a cada punto ubicado en el eje x\r\n",
        "\r\n",
        "plt.ylabel('Total votos')\r\n",
        "plt.xlabel('Candidatos')\r\n",
        "plt.show()"
      ],
      "execution_count": 30,
      "outputs": [
        {
          "output_type": "display_data",
          "data": {
            "image/png": "[encoded data removed]",
            "text/plain": [
              "<Figure size 432x288 with 1 Axes>"
            ]
          },
          "metadata": {
            "tags": [],
            "needs_background": "light"
          }
        }
      ]
    },
    {
      "cell_type": "code",
      "metadata": {
        "colab": {
          "base_uri": "https://localhost:8080/",
          "height": 432
        },
        "id": "bZv7263-7_lG",
        "outputId": "da033d62-448a-4eee-9537-575c18956835"
      },
      "source": [
        "# Carrera de formular 1 –  dispersión (colores por cada vehículo)\r\n",
        "import numpy as np\r\n",
        "import matplotlib.pyplot as plt\r\n",
        "\r\n",
        "matriz = np.random.uniform(8.2, 10, size=(4,5))\r\n",
        "total_vueltas = np.array([[corredor+1, matriz[:,corredor].sum()] for corredor in range(len(matriz[0]))])\r\n",
        "ganador = np.where(matriz == matriz[:,1].min())\r\n",
        "print(\"El ganador fue : \" + str(total_vueltas[ganador[0]]) + \"\\n\\n  El tiempo total por corredor fue de: \\n\" + str(total_vueltas))\r\n",
        "\r\n",
        "# Diagrama de dispersion\r\n",
        "x = total_vueltas[:,1]\r\n",
        "y = total_vueltas[:,0]\r\n",
        "fig = plt.figure()\r\n",
        "fig.add_subplot(111) \r\n",
        "plt.xlabel('Corredores')\r\n",
        "plt.ylabel('Total Tiempo')\r\n",
        "plt.scatter(y, x, c=x)\r\n",
        "plt.show"
      ],
      "execution_count": 31,
      "outputs": [
        {
          "output_type": "stream",
          "text": [
            "El ganador fue : [[ 4.         35.26137565]]\n",
            "\n",
            "  El tiempo total por corredor fue de: \n",
            "[[ 1.         34.85759898]\n",
            " [ 2.         35.87326272]\n",
            " [ 3.         35.23521132]\n",
            " [ 4.         35.26137565]\n",
            " [ 5.         36.20314511]]\n"
          ],
          "name": "stdout"
        },
        {
          "output_type": "execute_result",
          "data": {
            "text/plain": [
              "<function matplotlib.pyplot.show>"
            ]
          },
          "metadata": {
            "tags": []
          },
          "execution_count": 31
        },
        {
          "output_type": "display_data",
          "data": {
            "image/png": "[encoded data removed]",
            "text/plain": [
              "<Figure size 432x288 with 1 Axes>"
            ]
          },
          "metadata": {
            "tags": [],
            "needs_background": "light"
          }
        }
      ]
    }
  ]
}